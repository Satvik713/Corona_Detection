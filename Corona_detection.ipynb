{
 "cells": [
  {
   "cell_type": "code",
   "execution_count": 3,
   "metadata": {},
   "outputs": [
    {
     "name": "stdout",
     "output_type": "stream",
     "text": [
      "Looking in indexes: https://pypi.org/simple, https://pypi.ngc.nvidia.com\n",
      "Collecting grad-cam\n",
      "  Downloading grad-cam-1.5.4.tar.gz (7.8 MB)\n",
      "\u001b[2K     \u001b[90m━━━━━━━━━━━━━━━━━━━━━━━━━━━━━━━━━━━━━━━━\u001b[0m \u001b[32m7.8/7.8 MB\u001b[0m \u001b[31m3.8 MB/s\u001b[0m eta \u001b[36m0:00:00\u001b[0m00:01\u001b[0m00:01\u001b[0m\n",
      "\u001b[?25h  Installing build dependencies ... \u001b[?25ldone\n",
      "\u001b[?25h  Getting requirements to build wheel ... \u001b[?25ldone\n",
      "\u001b[?25h  Preparing metadata (pyproject.toml) ... \u001b[?25ldone\n",
      "\u001b[?25hRequirement already satisfied: numpy in /home/satvik/miniconda3/envs/lama/lib/python3.12/site-packages (from grad-cam) (2.0.1)\n",
      "Requirement already satisfied: Pillow in /home/satvik/miniconda3/envs/lama/lib/python3.12/site-packages (from grad-cam) (10.4.0)\n",
      "Requirement already satisfied: torch>=1.7.1 in /home/satvik/miniconda3/envs/lama/lib/python3.12/site-packages (from grad-cam) (2.4.0)\n",
      "Requirement already satisfied: torchvision>=0.8.2 in /home/satvik/miniconda3/envs/lama/lib/python3.12/site-packages (from grad-cam) (0.19.0)\n",
      "Collecting ttach (from grad-cam)\n",
      "  Downloading ttach-0.0.3-py3-none-any.whl.metadata (5.2 kB)\n",
      "Requirement already satisfied: tqdm in /home/satvik/miniconda3/envs/lama/lib/python3.12/site-packages (from grad-cam) (4.66.5)\n",
      "Requirement already satisfied: opencv-python in /home/satvik/miniconda3/envs/lama/lib/python3.12/site-packages (from grad-cam) (4.10.0.84)\n",
      "Requirement already satisfied: matplotlib in /home/satvik/miniconda3/envs/lama/lib/python3.12/site-packages (from grad-cam) (3.9.1)\n",
      "Requirement already satisfied: scikit-learn in /home/satvik/miniconda3/envs/lama/lib/python3.12/site-packages (from grad-cam) (1.5.1)\n",
      "Requirement already satisfied: filelock in /home/satvik/miniconda3/envs/lama/lib/python3.12/site-packages (from torch>=1.7.1->grad-cam) (3.15.4)\n",
      "Requirement already satisfied: typing-extensions>=4.8.0 in /home/satvik/miniconda3/envs/lama/lib/python3.12/site-packages (from torch>=1.7.1->grad-cam) (4.12.2)\n",
      "Requirement already satisfied: sympy in /home/satvik/miniconda3/envs/lama/lib/python3.12/site-packages (from torch>=1.7.1->grad-cam) (1.13.1)\n",
      "Requirement already satisfied: networkx in /home/satvik/miniconda3/envs/lama/lib/python3.12/site-packages (from torch>=1.7.1->grad-cam) (3.3)\n",
      "Requirement already satisfied: jinja2 in /home/satvik/miniconda3/envs/lama/lib/python3.12/site-packages (from torch>=1.7.1->grad-cam) (3.1.4)\n",
      "Requirement already satisfied: fsspec in /home/satvik/miniconda3/envs/lama/lib/python3.12/site-packages (from torch>=1.7.1->grad-cam) (2024.6.1)\n",
      "Requirement already satisfied: setuptools in /home/satvik/miniconda3/envs/lama/lib/python3.12/site-packages (from torch>=1.7.1->grad-cam) (72.1.0)\n",
      "Requirement already satisfied: nvidia-cuda-nvrtc-cu12==12.1.105 in /home/satvik/miniconda3/envs/lama/lib/python3.12/site-packages (from torch>=1.7.1->grad-cam) (12.1.105)\n",
      "Requirement already satisfied: nvidia-cuda-runtime-cu12==12.1.105 in /home/satvik/miniconda3/envs/lama/lib/python3.12/site-packages (from torch>=1.7.1->grad-cam) (12.1.105)\n",
      "Requirement already satisfied: nvidia-cuda-cupti-cu12==12.1.105 in /home/satvik/miniconda3/envs/lama/lib/python3.12/site-packages (from torch>=1.7.1->grad-cam) (12.1.105)\n",
      "Requirement already satisfied: nvidia-cudnn-cu12==9.1.0.70 in /home/satvik/miniconda3/envs/lama/lib/python3.12/site-packages (from torch>=1.7.1->grad-cam) (9.1.0.70)\n",
      "Requirement already satisfied: nvidia-cublas-cu12==12.1.3.1 in /home/satvik/miniconda3/envs/lama/lib/python3.12/site-packages (from torch>=1.7.1->grad-cam) (12.1.3.1)\n",
      "Requirement already satisfied: nvidia-cufft-cu12==11.0.2.54 in /home/satvik/miniconda3/envs/lama/lib/python3.12/site-packages (from torch>=1.7.1->grad-cam) (11.0.2.54)\n",
      "Requirement already satisfied: nvidia-curand-cu12==10.3.2.106 in /home/satvik/miniconda3/envs/lama/lib/python3.12/site-packages (from torch>=1.7.1->grad-cam) (10.3.2.106)\n",
      "Requirement already satisfied: nvidia-cusolver-cu12==11.4.5.107 in /home/satvik/miniconda3/envs/lama/lib/python3.12/site-packages (from torch>=1.7.1->grad-cam) (11.4.5.107)\n",
      "Requirement already satisfied: nvidia-cusparse-cu12==12.1.0.106 in /home/satvik/miniconda3/envs/lama/lib/python3.12/site-packages (from torch>=1.7.1->grad-cam) (12.1.0.106)\n",
      "Requirement already satisfied: nvidia-nccl-cu12==2.20.5 in /home/satvik/miniconda3/envs/lama/lib/python3.12/site-packages (from torch>=1.7.1->grad-cam) (2.20.5)\n",
      "Requirement already satisfied: nvidia-nvtx-cu12==12.1.105 in /home/satvik/miniconda3/envs/lama/lib/python3.12/site-packages (from torch>=1.7.1->grad-cam) (12.1.105)\n",
      "Requirement already satisfied: triton==3.0.0 in /home/satvik/miniconda3/envs/lama/lib/python3.12/site-packages (from torch>=1.7.1->grad-cam) (3.0.0)\n",
      "Requirement already satisfied: nvidia-nvjitlink-cu12 in /home/satvik/miniconda3/envs/lama/lib/python3.12/site-packages (from nvidia-cusolver-cu12==11.4.5.107->torch>=1.7.1->grad-cam) (12.6.20)\n",
      "Requirement already satisfied: contourpy>=1.0.1 in /home/satvik/miniconda3/envs/lama/lib/python3.12/site-packages (from matplotlib->grad-cam) (1.2.1)\n",
      "Requirement already satisfied: cycler>=0.10 in /home/satvik/miniconda3/envs/lama/lib/python3.12/site-packages (from matplotlib->grad-cam) (0.12.1)\n",
      "Requirement already satisfied: fonttools>=4.22.0 in /home/satvik/miniconda3/envs/lama/lib/python3.12/site-packages (from matplotlib->grad-cam) (4.53.1)\n",
      "Requirement already satisfied: kiwisolver>=1.3.1 in /home/satvik/miniconda3/envs/lama/lib/python3.12/site-packages (from matplotlib->grad-cam) (1.4.5)\n",
      "Requirement already satisfied: packaging>=20.0 in /home/satvik/miniconda3/envs/lama/lib/python3.12/site-packages (from matplotlib->grad-cam) (24.1)\n",
      "Requirement already satisfied: pyparsing>=2.3.1 in /home/satvik/miniconda3/envs/lama/lib/python3.12/site-packages (from matplotlib->grad-cam) (3.1.2)\n",
      "Requirement already satisfied: python-dateutil>=2.7 in /home/satvik/miniconda3/envs/lama/lib/python3.12/site-packages (from matplotlib->grad-cam) (2.9.0)\n",
      "Requirement already satisfied: scipy>=1.6.0 in /home/satvik/miniconda3/envs/lama/lib/python3.12/site-packages (from scikit-learn->grad-cam) (1.14.0)\n",
      "Requirement already satisfied: joblib>=1.2.0 in /home/satvik/miniconda3/envs/lama/lib/python3.12/site-packages (from scikit-learn->grad-cam) (1.4.2)\n",
      "Requirement already satisfied: threadpoolctl>=3.1.0 in /home/satvik/miniconda3/envs/lama/lib/python3.12/site-packages (from scikit-learn->grad-cam) (3.5.0)\n",
      "Requirement already satisfied: six>=1.5 in /home/satvik/miniconda3/envs/lama/lib/python3.12/site-packages (from python-dateutil>=2.7->matplotlib->grad-cam) (1.16.0)\n",
      "Requirement already satisfied: MarkupSafe>=2.0 in /home/satvik/miniconda3/envs/lama/lib/python3.12/site-packages (from jinja2->torch>=1.7.1->grad-cam) (2.1.5)\n",
      "Requirement already satisfied: mpmath<1.4,>=1.1.0 in /home/satvik/miniconda3/envs/lama/lib/python3.12/site-packages (from sympy->torch>=1.7.1->grad-cam) (1.3.0)\n",
      "Downloading ttach-0.0.3-py3-none-any.whl (9.8 kB)\n",
      "Building wheels for collected packages: grad-cam\n",
      "  Building wheel for grad-cam (pyproject.toml) ... \u001b[?25ldone\n",
      "\u001b[?25h  Created wheel for grad-cam: filename=grad_cam-1.5.4-py3-none-any.whl size=39588 sha256=592e2a859f7092aa3df4cac1645dfa200a534a3cfda91d6c6f8c6d3f6324bd0a\n",
      "  Stored in directory: /tmp/pip-ephem-wheel-cache-nijyd3tj/wheels/df/e1/fb/84d69cb87032ee4f92e69746bc6813e723c4ee0211a8b75deb\n",
      "Successfully built grad-cam\n",
      "Installing collected packages: ttach, grad-cam\n",
      "Successfully installed grad-cam-1.5.4 ttach-0.0.3\n"
     ]
    }
   ],
   "source": [
    "!pip install grad-cam"
   ]
  },
  {
   "cell_type": "code",
   "execution_count": 2,
   "metadata": {},
   "outputs": [
    {
     "name": "stdout",
     "output_type": "stream",
     "text": [
      "Train set size: 5286\n",
      "Test set size: 624\n",
      "Sample train paths and labels: [('/home/satvik/corona_detection/Coronahack-Chest-XRay-Dataset/Coronahack-Chest-XRay-Dataset/train/IM-0128-0001.jpeg', 'Normal'), ('/home/satvik/corona_detection/Coronahack-Chest-XRay-Dataset/Coronahack-Chest-XRay-Dataset/train/IM-0127-0001.jpeg', 'Normal'), ('/home/satvik/corona_detection/Coronahack-Chest-XRay-Dataset/Coronahack-Chest-XRay-Dataset/train/IM-0125-0001.jpeg', 'Normal'), ('/home/satvik/corona_detection/Coronahack-Chest-XRay-Dataset/Coronahack-Chest-XRay-Dataset/train/IM-0122-0001.jpeg', 'Normal'), ('/home/satvik/corona_detection/Coronahack-Chest-XRay-Dataset/Coronahack-Chest-XRay-Dataset/train/IM-0119-0001.jpeg', 'Normal')]\n",
      "Sample test paths and labels: [('/home/satvik/corona_detection/Coronahack-Chest-XRay-Dataset/Coronahack-Chest-XRay-Dataset/test/IM-0021-0001.jpeg', 'Normal'), ('/home/satvik/corona_detection/Coronahack-Chest-XRay-Dataset/Coronahack-Chest-XRay-Dataset/test/IM-0019-0001.jpeg', 'Normal'), ('/home/satvik/corona_detection/Coronahack-Chest-XRay-Dataset/Coronahack-Chest-XRay-Dataset/test/IM-0017-0001.jpeg', 'Normal'), ('/home/satvik/corona_detection/Coronahack-Chest-XRay-Dataset/Coronahack-Chest-XRay-Dataset/test/IM-0016-0001.jpeg', 'Normal'), ('/home/satvik/corona_detection/Coronahack-Chest-XRay-Dataset/Coronahack-Chest-XRay-Dataset/test/IM-0015-0001.jpeg', 'Normal')]\n"
     ]
    }
   ],
   "source": [
    "import pandas as pd\n",
    "\n",
    "metadata = pd.read_csv(\"/home/satvik/corona_detection/Chest_xray_Corona_Metadata.csv\")\n",
    "base_path = \"/home/satvik/corona_detection/Coronahack-Chest-XRay-Dataset/Coronahack-Chest-XRay-Dataset\"\n",
    "train_dir = f\"{base_path}/train/\"\n",
    "test_dir = f\"{base_path}/test/\"\n",
    "\n",
    "metadata['Full_Image_Path'] = metadata.apply(\n",
    "    lambda row: f\"{train_dir}{row['X_ray_image_name']}\" if row['Dataset_type'] == 'TRAIN' else f\"{test_dir}{row['X_ray_image_name']}\",\n",
    "    axis=1\n",
    ")\n",
    "\n",
    "train_data = metadata[metadata['Dataset_type'] == 'TRAIN']\n",
    "test_data = metadata[metadata['Dataset_type'] == 'TEST']\n",
    "\n",
    "train_paths = train_data['Full_Image_Path'].tolist()\n",
    "train_labels = train_data['Label'].tolist()\n",
    "\n",
    "test_paths = test_data['Full_Image_Path'].tolist()\n",
    "test_labels = test_data['Label'].tolist()\n",
    "\n",
    "print(\"Train set size:\", len(train_paths))\n",
    "print(\"Test set size:\", len(test_paths))\n",
    "\n",
    "print(\"Sample train paths and labels:\", list(zip(train_paths[:5], train_labels[:5])))\n",
    "print(\"Sample test paths and labels:\", list(zip(test_paths[:5], test_labels[:5])))"
   ]
  },
  {
   "cell_type": "code",
   "execution_count": 20,
   "metadata": {},
   "outputs": [
    {
     "name": "stdout",
     "output_type": "stream",
     "text": [
      "Batch of images shape: torch.Size([8, 1, 224, 224])\n",
      "Batch of labels: ('Normal', 'Pnemonia', 'Normal', 'Pnemonia', 'Pnemonia', 'Normal', 'Pnemonia', 'Pnemonia')\n"
     ]
    }
   ],
   "source": [
    "# Check what the train_loader contains by fetching one batch of data\n",
    "for images, labels in train_loader:\n",
    "    print(\"Batch of images shape:\", images.shape)  # (batch_size, channels, height, width)\n",
    "    print(\"Batch of labels:\", labels)\n",
    "    break  # Only print the first batch\n"
   ]
  },
  {
   "cell_type": "code",
   "execution_count": 3,
   "metadata": {},
   "outputs": [
    {
     "name": "stdout",
     "output_type": "stream",
     "text": [
      "Label encoding mapping:\n",
      "Normal -> 0\n",
      "Pnemonia -> 1\n"
     ]
    }
   ],
   "source": [
    "from torchvision import transforms\n",
    "from torch.utils.data import DataLoader, Dataset\n",
    "from PIL import Image\n",
    "\n",
    "image_transforms = {\n",
    "    'train': transforms.Compose([\n",
    "        transforms.Resize((224, 224)),\n",
    "        transforms.RandomHorizontalFlip(),\n",
    "        transforms.RandomRotation(15),\n",
    "        transforms.ToTensor(),\n",
    "        transforms.Normalize([0.5], [0.5])  \n",
    "    ]),\n",
    "    'test': transforms.Compose([\n",
    "        transforms.Resize((224, 224)),\n",
    "        transforms.ToTensor(),\n",
    "        transforms.Normalize([0.5], [0.5]) \n",
    "    ])\n",
    "}\n",
    "\n",
    "from sklearn.preprocessing import LabelEncoder\n",
    "\n",
    "# Create and fit the label encoder\n",
    "label_encoder = LabelEncoder()\n",
    "label_encoder.fit(metadata['Label'])  # Fit on all labels to ensure consistent encoding\n",
    "\n",
    "# Convert string labels to numeric\n",
    "train_labels_encoded = label_encoder.transform(train_labels)\n",
    "test_labels_encoded = label_encoder.transform(test_labels)\n",
    "\n",
    "# Print the encoding mapping for reference\n",
    "print(\"Label encoding mapping:\")\n",
    "for i, label in enumerate(label_encoder.classes_):\n",
    "    print(f\"{label} -> {i}\")\n",
    "\n",
    "class XRayDataset(Dataset):\n",
    "    def __init__(self, image_paths, labels, transform=None):\n",
    "        \"\"\"\n",
    "        Args:\n",
    "            image_paths (list): List of file paths to the images.\n",
    "            labels (list): List of encoded (numeric) labels corresponding to the images.\n",
    "            transform (callable, optional): A function/transform to apply to the images.\n",
    "        \"\"\"\n",
    "        self.image_paths = image_paths\n",
    "        self.labels = labels  # Labels are already encoded\n",
    "        self.transform = transform\n",
    "\n",
    "    def __len__(self):\n",
    "        return len(self.image_paths)\n",
    "\n",
    "    def __getitem__(self, idx):\n",
    "        image_path = self.image_paths[idx]\n",
    "        image = Image.open(image_path).convert('L')  \n",
    "        if self.transform:\n",
    "            image = self.transform(image)\n",
    "        label = self.labels[idx]  # Already numeric\n",
    "\n",
    "        return image, label\n",
    "\n",
    "# Create datasets with encoded labels\n",
    "train_dataset = XRayDataset(train_paths, train_labels_encoded, transform=image_transforms['train'])\n",
    "test_dataset = XRayDataset(test_paths, test_labels_encoded, transform=image_transforms['test'])\n",
    "\n",
    "train_loader = DataLoader(train_dataset, batch_size=8, shuffle=True)\n",
    "test_loader = DataLoader(test_dataset, batch_size=8, shuffle=False)\n"
   ]
  },
  {
   "cell_type": "code",
   "execution_count": 4,
   "metadata": {},
   "outputs": [
    {
     "name": "stdout",
     "output_type": "stream",
     "text": [
      "SimpleCNN(\n",
      "  (features): Sequential(\n",
      "    (0): Conv2d(1, 32, kernel_size=(3, 3), stride=(1, 1), padding=(1, 1))\n",
      "    (1): ReLU()\n",
      "    (2): MaxPool2d(kernel_size=2, stride=2, padding=0, dilation=1, ceil_mode=False)\n",
      "    (3): Conv2d(32, 64, kernel_size=(3, 3), stride=(1, 1), padding=(1, 1))\n",
      "    (4): ReLU()\n",
      "    (5): MaxPool2d(kernel_size=2, stride=2, padding=0, dilation=1, ceil_mode=False)\n",
      "  )\n",
      "  (classifier): Sequential(\n",
      "    (0): Flatten(start_dim=1, end_dim=-1)\n",
      "    (1): Linear(in_features=200704, out_features=128, bias=True)\n",
      "    (2): ReLU()\n",
      "    (3): Linear(in_features=128, out_features=2, bias=True)\n",
      "  )\n",
      ")\n"
     ]
    }
   ],
   "source": [
    "import torch.nn as nn\n",
    "class SimpleCNN(nn.Module):\n",
    "    def __init__(self, num_classes):\n",
    "        super(SimpleCNN, self).__init__()\n",
    "        self.features = nn.Sequential(\n",
    "            nn.Conv2d(1, 32, kernel_size=3, stride=1, padding=1),\n",
    "            nn.ReLU(),\n",
    "            nn.MaxPool2d(kernel_size=2),\n",
    "            nn.Conv2d(32, 64, kernel_size=3, stride=1, padding=1),\n",
    "            nn.ReLU(),\n",
    "            nn.MaxPool2d(kernel_size=2)\n",
    "        )\n",
    "        flattened_size = 64 * 56 * 56\n",
    "        \n",
    "        self.classifier = nn.Sequential(\n",
    "            nn.Flatten(),\n",
    "            nn.Linear(flattened_size, 128),\n",
    "            nn.ReLU(),\n",
    "            nn.Linear(128, num_classes)\n",
    "        )\n",
    "\n",
    "    def forward(self, x):\n",
    "        x = self.features(x)\n",
    "        x = self.classifier(x)\n",
    "        return x\n",
    "\n",
    "num_classes = len(metadata['Label'].unique())\n",
    "model = SimpleCNN(num_classes)\n",
    "print(model)"
   ]
  },
  {
   "cell_type": "code",
   "execution_count": 39,
   "metadata": {},
   "outputs": [
    {
     "name": "stdout",
     "output_type": "stream",
     "text": [
      "Type of batch: <class 'list'>\n",
      "Length of batch: 2\n",
      "Type of first element: <class 'torch.Tensor'>\n",
      "Type of second element: <class 'torch.Tensor'>\n"
     ]
    }
   ],
   "source": [
    "# Add this before the training loop to inspect the data structure\n",
    "for batch in train_loader:\n",
    "    print(\"Type of batch:\", type(batch))\n",
    "    print(\"Length of batch:\", len(batch))\n",
    "    print(\"Type of first element:\", type(batch[0]))\n",
    "    print(\"Type of second element:\", type(batch[1]))\n",
    "    break"
   ]
  },
  {
   "cell_type": "code",
   "execution_count": 9,
   "metadata": {},
   "outputs": [],
   "source": [
    "import torch\n",
    "import torch.nn as nn\n",
    "import torch.optim as optim"
   ]
  },
  {
   "cell_type": "code",
   "execution_count": 10,
   "metadata": {},
   "outputs": [
    {
     "name": "stderr",
     "output_type": "stream",
     "text": [
      "/tmp/ipykernel_207466/2699388934.py:49: UserWarning: To copy construct from a tensor, it is recommended to use sourceTensor.clone().detach() or sourceTensor.clone().detach().requires_grad_(True), rather than torch.tensor(sourceTensor).\n",
      "  labels = torch.tensor(batch[1], dtype=torch.long)\n"
     ]
    },
    {
     "name": "stdout",
     "output_type": "stream",
     "text": [
      "Epoch 1/10 - Loss: 0.2583, Accuracy: 0.9016\n"
     ]
    },
    {
     "name": "stderr",
     "output_type": "stream",
     "text": [
      "/tmp/ipykernel_207466/2699388934.py:19: UserWarning: To copy construct from a tensor, it is recommended to use sourceTensor.clone().detach() or sourceTensor.clone().detach().requires_grad_(True), rather than torch.tensor(sourceTensor).\n",
      "  labels = torch.tensor(batch[1], dtype=torch.long)\n"
     ]
    },
    {
     "name": "stdout",
     "output_type": "stream",
     "text": [
      "              precision    recall  f1-score   support\n",
      "\n",
      "           0       0.96      0.38      0.55       234\n",
      "           1       0.73      0.99      0.84       390\n",
      "\n",
      "    accuracy                           0.76       624\n",
      "   macro avg       0.84      0.69      0.69       624\n",
      "weighted avg       0.81      0.76      0.73       624\n",
      "\n"
     ]
    },
    {
     "data": {
      "image/png": "[encoded data removed]",
      "text/plain": [
       "<Figure size 640x480 with 2 Axes>"
      ]
     },
     "metadata": {},
     "output_type": "display_data"
    },
    {
     "name": "stderr",
     "output_type": "stream",
     "text": [
      "/tmp/ipykernel_207466/2699388934.py:49: UserWarning: To copy construct from a tensor, it is recommended to use sourceTensor.clone().detach() or sourceTensor.clone().detach().requires_grad_(True), rather than torch.tensor(sourceTensor).\n",
      "  labels = torch.tensor(batch[1], dtype=torch.long)\n"
     ]
    },
    {
     "name": "stdout",
     "output_type": "stream",
     "text": [
      "Epoch 2/10 - Loss: 0.1428, Accuracy: 0.9480\n"
     ]
    },
    {
     "name": "stderr",
     "output_type": "stream",
     "text": [
      "/tmp/ipykernel_207466/2699388934.py:19: UserWarning: To copy construct from a tensor, it is recommended to use sourceTensor.clone().detach() or sourceTensor.clone().detach().requires_grad_(True), rather than torch.tensor(sourceTensor).\n",
      "  labels = torch.tensor(batch[1], dtype=torch.long)\n"
     ]
    },
    {
     "name": "stdout",
     "output_type": "stream",
     "text": [
      "              precision    recall  f1-score   support\n",
      "\n",
      "           0       0.89      0.62      0.73       234\n",
      "           1       0.81      0.95      0.88       390\n",
      "\n",
      "    accuracy                           0.83       624\n",
      "   macro avg       0.85      0.79      0.80       624\n",
      "weighted avg       0.84      0.83      0.82       624\n",
      "\n"
     ]
    },
    {
     "data": {
      "image/png": "[encoded data removed]",
      "text/plain": [
       "<Figure size 640x480 with 2 Axes>"
      ]
     },
     "metadata": {},
     "output_type": "display_data"
    },
    {
     "name": "stderr",
     "output_type": "stream",
     "text": [
      "/tmp/ipykernel_207466/2699388934.py:49: UserWarning: To copy construct from a tensor, it is recommended to use sourceTensor.clone().detach() or sourceTensor.clone().detach().requires_grad_(True), rather than torch.tensor(sourceTensor).\n",
      "  labels = torch.tensor(batch[1], dtype=torch.long)\n"
     ]
    },
    {
     "name": "stdout",
     "output_type": "stream",
     "text": [
      "Epoch 3/10 - Loss: 0.1272, Accuracy: 0.9538\n"
     ]
    },
    {
     "name": "stderr",
     "output_type": "stream",
     "text": [
      "/tmp/ipykernel_207466/2699388934.py:19: UserWarning: To copy construct from a tensor, it is recommended to use sourceTensor.clone().detach() or sourceTensor.clone().detach().requires_grad_(True), rather than torch.tensor(sourceTensor).\n",
      "  labels = torch.tensor(batch[1], dtype=torch.long)\n"
     ]
    },
    {
     "name": "stdout",
     "output_type": "stream",
     "text": [
      "              precision    recall  f1-score   support\n",
      "\n",
      "           0       0.92      0.41      0.56       234\n",
      "           1       0.73      0.98      0.84       390\n",
      "\n",
      "    accuracy                           0.76       624\n",
      "   macro avg       0.83      0.69      0.70       624\n",
      "weighted avg       0.80      0.76      0.74       624\n",
      "\n"
     ]
    },
    {
     "data": {
      "image/png": "[encoded data removed]",
      "text/plain": [
       "<Figure size 640x480 with 2 Axes>"
      ]
     },
     "metadata": {},
     "output_type": "display_data"
    },
    {
     "name": "stderr",
     "output_type": "stream",
     "text": [
      "/tmp/ipykernel_207466/2699388934.py:49: UserWarning: To copy construct from a tensor, it is recommended to use sourceTensor.clone().detach() or sourceTensor.clone().detach().requires_grad_(True), rather than torch.tensor(sourceTensor).\n",
      "  labels = torch.tensor(batch[1], dtype=torch.long)\n"
     ]
    },
    {
     "name": "stdout",
     "output_type": "stream",
     "text": [
      "Epoch 4/10 - Loss: 0.1186, Accuracy: 0.9588\n"
     ]
    },
    {
     "name": "stderr",
     "output_type": "stream",
     "text": [
      "/tmp/ipykernel_207466/2699388934.py:19: UserWarning: To copy construct from a tensor, it is recommended to use sourceTensor.clone().detach() or sourceTensor.clone().detach().requires_grad_(True), rather than torch.tensor(sourceTensor).\n",
      "  labels = torch.tensor(batch[1], dtype=torch.long)\n"
     ]
    },
    {
     "name": "stdout",
     "output_type": "stream",
     "text": [
      "              precision    recall  f1-score   support\n",
      "\n",
      "           0       0.85      0.57      0.68       234\n",
      "           1       0.78      0.94      0.86       390\n",
      "\n",
      "    accuracy                           0.80       624\n",
      "   macro avg       0.82      0.75      0.77       624\n",
      "weighted avg       0.81      0.80      0.79       624\n",
      "\n"
     ]
    },
    {
     "data": {
      "image/png": "[encoded data removed]",
      "text/plain": [
       "<Figure size 640x480 with 2 Axes>"
      ]
     },
     "metadata": {},
     "output_type": "display_data"
    },
    {
     "name": "stderr",
     "output_type": "stream",
     "text": [
      "/tmp/ipykernel_207466/2699388934.py:49: UserWarning: To copy construct from a tensor, it is recommended to use sourceTensor.clone().detach() or sourceTensor.clone().detach().requires_grad_(True), rather than torch.tensor(sourceTensor).\n",
      "  labels = torch.tensor(batch[1], dtype=torch.long)\n"
     ]
    },
    {
     "name": "stdout",
     "output_type": "stream",
     "text": [
      "Epoch 5/10 - Loss: 0.1001, Accuracy: 0.9612\n"
     ]
    },
    {
     "name": "stderr",
     "output_type": "stream",
     "text": [
      "/tmp/ipykernel_207466/2699388934.py:19: UserWarning: To copy construct from a tensor, it is recommended to use sourceTensor.clone().detach() or sourceTensor.clone().detach().requires_grad_(True), rather than torch.tensor(sourceTensor).\n",
      "  labels = torch.tensor(batch[1], dtype=torch.long)\n"
     ]
    },
    {
     "name": "stdout",
     "output_type": "stream",
     "text": [
      "              precision    recall  f1-score   support\n",
      "\n",
      "           0       0.89      0.50      0.64       234\n",
      "           1       0.76      0.96      0.85       390\n",
      "\n",
      "    accuracy                           0.79       624\n",
      "   macro avg       0.82      0.73      0.74       624\n",
      "weighted avg       0.81      0.79      0.77       624\n",
      "\n"
     ]
    },
    {
     "data": {
      "image/png": "[encoded data removed]",
      "text/plain": [
       "<Figure size 640x480 with 2 Axes>"
      ]
     },
     "metadata": {},
     "output_type": "display_data"
    },
    {
     "name": "stderr",
     "output_type": "stream",
     "text": [
      "/tmp/ipykernel_207466/2699388934.py:49: UserWarning: To copy construct from a tensor, it is recommended to use sourceTensor.clone().detach() or sourceTensor.clone().detach().requires_grad_(True), rather than torch.tensor(sourceTensor).\n",
      "  labels = torch.tensor(batch[1], dtype=torch.long)\n"
     ]
    },
    {
     "name": "stdout",
     "output_type": "stream",
     "text": [
      "Epoch 6/10 - Loss: 0.1041, Accuracy: 0.9625\n"
     ]
    },
    {
     "name": "stderr",
     "output_type": "stream",
     "text": [
      "/tmp/ipykernel_207466/2699388934.py:19: UserWarning: To copy construct from a tensor, it is recommended to use sourceTensor.clone().detach() or sourceTensor.clone().detach().requires_grad_(True), rather than torch.tensor(sourceTensor).\n",
      "  labels = torch.tensor(batch[1], dtype=torch.long)\n"
     ]
    },
    {
     "name": "stdout",
     "output_type": "stream",
     "text": [
      "              precision    recall  f1-score   support\n",
      "\n",
      "           0       0.89      0.44      0.59       234\n",
      "           1       0.74      0.97      0.84       390\n",
      "\n",
      "    accuracy                           0.77       624\n",
      "   macro avg       0.82      0.71      0.72       624\n",
      "weighted avg       0.80      0.77      0.75       624\n",
      "\n"
     ]
    },
    {
     "data": {
      "image/png": "[encoded data removed]",
      "text/plain": [
       "<Figure size 640x480 with 2 Axes>"
      ]
     },
     "metadata": {},
     "output_type": "display_data"
    },
    {
     "name": "stderr",
     "output_type": "stream",
     "text": [
      "/tmp/ipykernel_207466/2699388934.py:49: UserWarning: To copy construct from a tensor, it is recommended to use sourceTensor.clone().detach() or sourceTensor.clone().detach().requires_grad_(True), rather than torch.tensor(sourceTensor).\n",
      "  labels = torch.tensor(batch[1], dtype=torch.long)\n"
     ]
    },
    {
     "name": "stdout",
     "output_type": "stream",
     "text": [
      "Epoch 7/10 - Loss: 0.0951, Accuracy: 0.9661\n"
     ]
    },
    {
     "name": "stderr",
     "output_type": "stream",
     "text": [
      "/tmp/ipykernel_207466/2699388934.py:19: UserWarning: To copy construct from a tensor, it is recommended to use sourceTensor.clone().detach() or sourceTensor.clone().detach().requires_grad_(True), rather than torch.tensor(sourceTensor).\n",
      "  labels = torch.tensor(batch[1], dtype=torch.long)\n"
     ]
    },
    {
     "name": "stdout",
     "output_type": "stream",
     "text": [
      "              precision    recall  f1-score   support\n",
      "\n",
      "           0       0.96      0.32      0.48       234\n",
      "           1       0.71      0.99      0.83       390\n",
      "\n",
      "    accuracy                           0.74       624\n",
      "   macro avg       0.84      0.66      0.65       624\n",
      "weighted avg       0.80      0.74      0.70       624\n",
      "\n"
     ]
    },
    {
     "data": {
      "image/png": "[encoded data removed]",
      "text/plain": [
       "<Figure size 640x480 with 2 Axes>"
      ]
     },
     "metadata": {},
     "output_type": "display_data"
    },
    {
     "name": "stderr",
     "output_type": "stream",
     "text": [
      "/tmp/ipykernel_207466/2699388934.py:49: UserWarning: To copy construct from a tensor, it is recommended to use sourceTensor.clone().detach() or sourceTensor.clone().detach().requires_grad_(True), rather than torch.tensor(sourceTensor).\n",
      "  labels = torch.tensor(batch[1], dtype=torch.long)\n"
     ]
    },
    {
     "name": "stdout",
     "output_type": "stream",
     "text": [
      "Epoch 8/10 - Loss: 0.0934, Accuracy: 0.9648\n"
     ]
    },
    {
     "name": "stderr",
     "output_type": "stream",
     "text": [
      "/tmp/ipykernel_207466/2699388934.py:19: UserWarning: To copy construct from a tensor, it is recommended to use sourceTensor.clone().detach() or sourceTensor.clone().detach().requires_grad_(True), rather than torch.tensor(sourceTensor).\n",
      "  labels = torch.tensor(batch[1], dtype=torch.long)\n"
     ]
    },
    {
     "name": "stdout",
     "output_type": "stream",
     "text": [
      "              precision    recall  f1-score   support\n",
      "\n",
      "           0       0.99      0.32      0.49       234\n",
      "           1       0.71      1.00      0.83       390\n",
      "\n",
      "    accuracy                           0.75       624\n",
      "   macro avg       0.85      0.66      0.66       624\n",
      "weighted avg       0.81      0.75      0.70       624\n",
      "\n"
     ]
    },
    {
     "data": {
      "image/png": "[encoded data removed]",
      "text/plain": [
       "<Figure size 640x480 with 2 Axes>"
      ]
     },
     "metadata": {},
     "output_type": "display_data"
    },
    {
     "name": "stderr",
     "output_type": "stream",
     "text": [
      "/tmp/ipykernel_207466/2699388934.py:49: UserWarning: To copy construct from a tensor, it is recommended to use sourceTensor.clone().detach() or sourceTensor.clone().detach().requires_grad_(True), rather than torch.tensor(sourceTensor).\n",
      "  labels = torch.tensor(batch[1], dtype=torch.long)\n"
     ]
    },
    {
     "name": "stdout",
     "output_type": "stream",
     "text": [
      "Epoch 9/10 - Loss: 0.0810, Accuracy: 0.9701\n"
     ]
    },
    {
     "name": "stderr",
     "output_type": "stream",
     "text": [
      "/tmp/ipykernel_207466/2699388934.py:19: UserWarning: To copy construct from a tensor, it is recommended to use sourceTensor.clone().detach() or sourceTensor.clone().detach().requires_grad_(True), rather than torch.tensor(sourceTensor).\n",
      "  labels = torch.tensor(batch[1], dtype=torch.long)\n"
     ]
    },
    {
     "name": "stdout",
     "output_type": "stream",
     "text": [
      "              precision    recall  f1-score   support\n",
      "\n",
      "           0       0.99      0.31      0.47       234\n",
      "           1       0.71      1.00      0.83       390\n",
      "\n",
      "    accuracy                           0.74       624\n",
      "   macro avg       0.85      0.65      0.65       624\n",
      "weighted avg       0.81      0.74      0.69       624\n",
      "\n"
     ]
    },
    {
     "data": {
      "image/png": "[encoded data removed]",
      "text/plain": [
       "<Figure size 640x480 with 2 Axes>"
      ]
     },
     "metadata": {},
     "output_type": "display_data"
    },
    {
     "name": "stderr",
     "output_type": "stream",
     "text": [
      "/tmp/ipykernel_207466/2699388934.py:49: UserWarning: To copy construct from a tensor, it is recommended to use sourceTensor.clone().detach() or sourceTensor.clone().detach().requires_grad_(True), rather than torch.tensor(sourceTensor).\n",
      "  labels = torch.tensor(batch[1], dtype=torch.long)\n"
     ]
    },
    {
     "name": "stdout",
     "output_type": "stream",
     "text": [
      "Epoch 10/10 - Loss: 0.0821, Accuracy: 0.9709\n"
     ]
    },
    {
     "name": "stderr",
     "output_type": "stream",
     "text": [
      "/tmp/ipykernel_207466/2699388934.py:19: UserWarning: To copy construct from a tensor, it is recommended to use sourceTensor.clone().detach() or sourceTensor.clone().detach().requires_grad_(True), rather than torch.tensor(sourceTensor).\n",
      "  labels = torch.tensor(batch[1], dtype=torch.long)\n"
     ]
    },
    {
     "name": "stdout",
     "output_type": "stream",
     "text": [
      "              precision    recall  f1-score   support\n",
      "\n",
      "           0       0.97      0.44      0.61       234\n",
      "           1       0.75      0.99      0.85       390\n",
      "\n",
      "    accuracy                           0.79       624\n",
      "   macro avg       0.86      0.72      0.73       624\n",
      "weighted avg       0.83      0.79      0.76       624\n",
      "\n"
     ]
    },
    {
     "data": {
      "image/png": "[encoded data removed]",
      "text/plain": [
       "<Figure size 640x480 with 2 Axes>"
      ]
     },
     "metadata": {},
     "output_type": "display_data"
    },
    {
     "name": "stdout",
     "output_type": "stream",
     "text": [
      "Model saved to simple_cnn.pth\n",
      "Training complete\n"
     ]
    }
   ],
   "source": [
    "import torch\n",
    "import torch.nn as nn\n",
    "import torch.optim as optim\n",
    "from sklearn.metrics import classification_report, confusion_matrix\n",
    "import seaborn as sns\n",
    "import matplotlib.pyplot as plt\n",
    "from pytorch_grad_cam import GradCAM\n",
    "from pytorch_grad_cam.utils.image import show_cam_on_image\n",
    "from torch.utils.data import DataLoader\n",
    "\n",
    "def evaluate_model(model, dataloader, device):\n",
    "    model.eval()\n",
    "    all_preds, all_labels = [], []\n",
    "    \n",
    "    with torch.no_grad():\n",
    "        for batch in dataloader:\n",
    "            # Unpack batch and convert labels to tensor\n",
    "            images = batch[0]\n",
    "            labels = torch.tensor(batch[1], dtype=torch.long)\n",
    "            \n",
    "            # Move to device\n",
    "            images = images.to(device)\n",
    "            labels = labels.to(device)\n",
    "            \n",
    "            outputs = model(images)\n",
    "            preds = torch.argmax(outputs, dim=1)\n",
    "            all_preds.extend(preds.cpu().numpy())\n",
    "            all_labels.extend(labels.cpu().numpy())\n",
    "                \n",
    "    print(classification_report(all_labels, all_preds))\n",
    "    cm = confusion_matrix(all_labels, all_preds)\n",
    "    sns.heatmap(cm, annot=True, fmt='d', cmap='Blues')\n",
    "    plt.show()\n",
    "\n",
    "def train_model(model, train_loader, test_loader, num_epochs, device, learning_rate=0.001, save_path=\"model.pth\"):\n",
    "    model.to(device)\n",
    "    criterion = nn.CrossEntropyLoss()\n",
    "    optimizer = optim.Adam(model.parameters(), lr=learning_rate)\n",
    "\n",
    "    for epoch in range(num_epochs):\n",
    "        model.train()\n",
    "        running_loss = 0.0\n",
    "        correct = 0\n",
    "        total = 0\n",
    "        \n",
    "        for batch in train_loader:\n",
    "            # Unpack batch and convert labels to tensor\n",
    "            images = batch[0]\n",
    "            labels = torch.tensor(batch[1], dtype=torch.long)\n",
    "            \n",
    "            # Move to device\n",
    "            images = images.to(device)\n",
    "            labels = labels.to(device)\n",
    "\n",
    "            optimizer.zero_grad()\n",
    "            outputs = model(images)\n",
    "            loss = criterion(outputs, labels)\n",
    "            loss.backward()\n",
    "            optimizer.step()\n",
    "\n",
    "            running_loss += loss.item()\n",
    "            _, preds = torch.max(outputs, 1)\n",
    "            correct += (preds == labels).sum().item()\n",
    "            total += labels.size(0)\n",
    "\n",
    "        epoch_loss = running_loss / len(train_loader)\n",
    "        epoch_accuracy = correct / total\n",
    "\n",
    "        print(f\"Epoch {epoch+1}/{num_epochs} - Loss: {epoch_loss:.4f}, Accuracy: {epoch_accuracy:.4f}\")\n",
    "        # Evaluate on the test set after each epoch\n",
    "        evaluate_model(model, test_loader, device)\n",
    "\n",
    "    # Save the model after training\n",
    "    torch.save(model.state_dict(), save_path)\n",
    "    print(f\"Model saved to {save_path}\")\n",
    "\n",
    "    print(\"Training complete\")\n",
    "\n",
    "# Initialize model and training\n",
    "num_classes = len(metadata['Label'].unique())\n",
    "model = SimpleCNN(num_classes)\n",
    "device = torch.device(\"cuda\" if torch.cuda.is_available() else \"cpu\")\n",
    "train_model(model, train_loader, test_loader, num_epochs=10, device=device, save_path=\"simple_cnn.pth\")\n"
   ]
  },
  {
   "cell_type": "code",
   "execution_count": 14,
   "metadata": {},
   "outputs": [
    {
     "name": "stdout",
     "output_type": "stream",
     "text": [
      "tensor([[[-1., -1., -1.,  ..., -1., -1., -1.],\n",
      "         [-1., -1., -1.,  ..., -1., -1., -1.],\n",
      "         [-1., -1., -1.,  ..., -1., -1., -1.],\n",
      "         ...,\n",
      "         [-1., -1., -1.,  ..., -1., -1., -1.],\n",
      "         [-1., -1., -1.,  ..., -1., -1., -1.],\n",
      "         [-1., -1., -1.,  ..., -1., -1., -1.]]])\n"
     ]
    }
   ],
   "source": [
    "for batch in train_loader:\n",
    "    images, labels = batch\n",
    "    print((images[0]))\n",
    "    break"
   ]
  },
  {
   "cell_type": "code",
   "execution_count": 16,
   "metadata": {},
   "outputs": [
    {
     "name": "stdout",
     "output_type": "stream",
     "text": [
      "Looking in indexes: https://pypi.org/simple, https://pypi.ngc.nvidia.com\n",
      "Collecting torchviz\n",
      "  Downloading torchviz-0.0.3-py3-none-any.whl.metadata (2.1 kB)\n",
      "Requirement already satisfied: torch in /home/satvik/miniconda3/envs/lama/lib/python3.12/site-packages (from torchviz) (2.4.0)\n",
      "Collecting graphviz (from torchviz)\n",
      "  Downloading graphviz-0.20.3-py3-none-any.whl.metadata (12 kB)\n",
      "Requirement already satisfied: filelock in /home/satvik/miniconda3/envs/lama/lib/python3.12/site-packages (from torch->torchviz) (3.15.4)\n",
      "Requirement already satisfied: typing-extensions>=4.8.0 in /home/satvik/miniconda3/envs/lama/lib/python3.12/site-packages (from torch->torchviz) (4.12.2)\n",
      "Requirement already satisfied: sympy in /home/satvik/miniconda3/envs/lama/lib/python3.12/site-packages (from torch->torchviz) (1.13.1)\n",
      "Requirement already satisfied: networkx in /home/satvik/miniconda3/envs/lama/lib/python3.12/site-packages (from torch->torchviz) (3.3)\n",
      "Requirement already satisfied: jinja2 in /home/satvik/miniconda3/envs/lama/lib/python3.12/site-packages (from torch->torchviz) (3.1.4)\n",
      "Requirement already satisfied: fsspec in /home/satvik/miniconda3/envs/lama/lib/python3.12/site-packages (from torch->torchviz) (2024.6.1)\n",
      "Requirement already satisfied: setuptools in /home/satvik/miniconda3/envs/lama/lib/python3.12/site-packages (from torch->torchviz) (72.1.0)\n",
      "Requirement already satisfied: nvidia-cuda-nvrtc-cu12==12.1.105 in /home/satvik/miniconda3/envs/lama/lib/python3.12/site-packages (from torch->torchviz) (12.1.105)\n",
      "Requirement already satisfied: nvidia-cuda-runtime-cu12==12.1.105 in /home/satvik/miniconda3/envs/lama/lib/python3.12/site-packages (from torch->torchviz) (12.1.105)\n",
      "Requirement already satisfied: nvidia-cuda-cupti-cu12==12.1.105 in /home/satvik/miniconda3/envs/lama/lib/python3.12/site-packages (from torch->torchviz) (12.1.105)\n",
      "Requirement already satisfied: nvidia-cudnn-cu12==9.1.0.70 in /home/satvik/miniconda3/envs/lama/lib/python3.12/site-packages (from torch->torchviz) (9.1.0.70)\n",
      "Requirement already satisfied: nvidia-cublas-cu12==12.1.3.1 in /home/satvik/miniconda3/envs/lama/lib/python3.12/site-packages (from torch->torchviz) (12.1.3.1)\n",
      "Requirement already satisfied: nvidia-cufft-cu12==11.0.2.54 in /home/satvik/miniconda3/envs/lama/lib/python3.12/site-packages (from torch->torchviz) (11.0.2.54)\n",
      "Requirement already satisfied: nvidia-curand-cu12==10.3.2.106 in /home/satvik/miniconda3/envs/lama/lib/python3.12/site-packages (from torch->torchviz) (10.3.2.106)\n",
      "Requirement already satisfied: nvidia-cusolver-cu12==11.4.5.107 in /home/satvik/miniconda3/envs/lama/lib/python3.12/site-packages (from torch->torchviz) (11.4.5.107)\n",
      "Requirement already satisfied: nvidia-cusparse-cu12==12.1.0.106 in /home/satvik/miniconda3/envs/lama/lib/python3.12/site-packages (from torch->torchviz) (12.1.0.106)\n",
      "Requirement already satisfied: nvidia-nccl-cu12==2.20.5 in /home/satvik/miniconda3/envs/lama/lib/python3.12/site-packages (from torch->torchviz) (2.20.5)\n",
      "Requirement already satisfied: nvidia-nvtx-cu12==12.1.105 in /home/satvik/miniconda3/envs/lama/lib/python3.12/site-packages (from torch->torchviz) (12.1.105)\n",
      "Requirement already satisfied: triton==3.0.0 in /home/satvik/miniconda3/envs/lama/lib/python3.12/site-packages (from torch->torchviz) (3.0.0)\n",
      "Requirement already satisfied: nvidia-nvjitlink-cu12 in /home/satvik/miniconda3/envs/lama/lib/python3.12/site-packages (from nvidia-cusolver-cu12==11.4.5.107->torch->torchviz) (12.6.20)\n",
      "Requirement already satisfied: MarkupSafe>=2.0 in /home/satvik/miniconda3/envs/lama/lib/python3.12/site-packages (from jinja2->torch->torchviz) (2.1.5)\n",
      "Requirement already satisfied: mpmath<1.4,>=1.1.0 in /home/satvik/miniconda3/envs/lama/lib/python3.12/site-packages (from sympy->torch->torchviz) (1.3.0)\n",
      "Downloading torchviz-0.0.3-py3-none-any.whl (5.7 kB)\n",
      "Downloading graphviz-0.20.3-py3-none-any.whl (47 kB)\n",
      "Installing collected packages: graphviz, torchviz\n",
      "Successfully installed graphviz-0.20.3 torchviz-0.0.3\n"
     ]
    }
   ],
   "source": [
    "!pip install torchviz "
   ]
  },
  {
   "cell_type": "code",
   "execution_count": 24,
   "metadata": {},
   "outputs": [
    {
     "name": "stderr",
     "output_type": "stream",
     "text": [
      "/tmp/ipykernel_207466/3292628750.py:6: FutureWarning: You are using `torch.load` with `weights_only=False` (the current default value), which uses the default pickle module implicitly. It is possible to construct malicious pickle data which will execute arbitrary code during unpickling (See https://github.com/pytorch/pytorch/blob/main/SECURITY.md#untrusted-models for more details). In a future release, the default value for `weights_only` will be flipped to `True`. This limits the functions that could be executed during unpickling. Arbitrary objects will no longer be allowed to be loaded via this mode unless they are explicitly allowlisted by the user via `torch.serialization.add_safe_globals`. We recommend you start setting `weights_only=True` for any use case where you don't have full control of the loaded file. Please open an issue on GitHub for any issues related to this experimental feature.\n",
      "  state_dict = torch.load(\"/home/satvik/corona_detection/simple_cnn.pth\")\n"
     ]
    }
   ],
   "source": [
    "from torchviz import make_dot\n",
    "\n",
    "model = SimpleCNN(num_classes=2)\n",
    "\n",
    "# Load the state dictionary\n",
    "state_dict = torch.load(\"/home/satvik/corona_detection/simple_cnn.pth\")\n",
    "\n",
    "# Check and ensure the state_dict is loaded into the model\n",
    "if isinstance(state_dict, dict):  # If it's a state_dict\n",
    "    model.load_state_dict(state_dict)\n",
    "else:\n",
    "    model = state_dict  "
   ]
  },
  {
   "cell_type": "code",
   "execution_count": 26,
   "metadata": {},
   "outputs": [
    {
     "data": {
      "text/plain": [
       "'model_graph.png'"
      ]
     },
     "execution_count": 26,
     "metadata": {},
     "output_type": "execute_result"
    }
   ],
   "source": [
    "device = torch.device('cuda' if torch.cuda.is_available() else 'cpu')\n",
    "model = model.to(device)\n",
    "\n",
    "# Prepare a single image for visualization\n",
    "for batch in train_loader:\n",
    "    images, labels = batch\n",
    "    image = images[0].unsqueeze(0).to(device)  # Get the first image\n",
    "    break\n",
    "\n",
    "# Forward pass\n",
    "output = model(image)\n",
    "\n",
    "# Visualize the model's computation graph\n",
    "make_dot(output, params=dict(model.named_parameters())).render(\"model_graph\", format=\"png\")"
   ]
  },
  {
   "cell_type": "code",
   "execution_count": 20,
   "metadata": {},
   "outputs": [
    {
     "name": "stdout",
     "output_type": "stream",
     "text": [
      "Looking in indexes: https://pypi.org/simple, https://pypi.ngc.nvidia.com\n",
      "Collecting torchsummary\n",
      "  Downloading torchsummary-1.5.1-py3-none-any.whl.metadata (296 bytes)\n",
      "Downloading torchsummary-1.5.1-py3-none-any.whl (2.8 kB)\n",
      "Installing collected packages: torchsummary\n",
      "Successfully installed torchsummary-1.5.1\n"
     ]
    }
   ],
   "source": [
    "!pip install torchsummary "
   ]
  },
  {
   "cell_type": "code",
   "execution_count": 29,
   "metadata": {},
   "outputs": [
    {
     "name": "stdout",
     "output_type": "stream",
     "text": [
      "Visualizing filters of first Conv2d (1 -> 32 channels):\n"
     ]
    },
    {
     "data": {
      "image/png": "[encoded data removed]",
      "text/plain": [
       "<Figure size 1200x1200 with 32 Axes>"
      ]
     },
     "metadata": {},
     "output_type": "display_data"
    },
    {
     "name": "stdout",
     "output_type": "stream",
     "text": [
      "Visualizing filters of second Conv2d (32 -> 64 channels):\n"
     ]
    },
    {
     "data": {
      "image/png": "[encoded data removed]",
      "text/plain": [
       "<Figure size 1200x1200 with 64 Axes>"
      ]
     },
     "metadata": {},
     "output_type": "display_data"
    }
   ],
   "source": [
    "import torch\n",
    "import matplotlib.pyplot as plt\n",
    "\n",
    "# Assuming your model is loaded as `model`\n",
    "# Get the weights from the convolutional layers\n",
    "conv1_weights = model.features[0].weight.data.cpu().numpy()  # First Conv2d(1, 32)\n",
    "conv2_weights = model.features[3].weight.data.cpu().numpy()  # Second Conv2d(32, 64)\n",
    "\n",
    "# Function to visualize filters\n",
    "def visualize_filters(filters, num_columns=8):\n",
    "    num_filters = filters.shape[0]\n",
    "    num_rows = (num_filters + num_columns - 1) // num_columns\n",
    "    fig, axes = plt.subplots(num_rows, num_columns, figsize=(12, 12))\n",
    "    axes = axes.flatten()\n",
    "\n",
    "    for i in range(num_filters):\n",
    "        ax = axes[i]\n",
    "        ax.imshow(filters[i, 0, :, :], cmap='gray')\n",
    "        ax.axis('off')\n",
    "\n",
    "    # Hide unused axes\n",
    "    for i in range(num_filters, len(axes)):\n",
    "        axes[i].axis('off')\n",
    "\n",
    "    plt.show()\n",
    "\n",
    "# Visualize the filters\n",
    "print(\"Visualizing filters of first Conv2d (1 -> 32 channels):\")\n",
    "visualize_filters(conv1_weights)\n",
    "\n",
    "print(\"Visualizing filters of second Conv2d (32 -> 64 channels):\")\n",
    "visualize_filters(conv2_weights)\n"
   ]
  },
  {
   "cell_type": "code",
   "execution_count": null,
   "metadata": {},
   "outputs": [],
   "source": []
  },
  {
   "cell_type": "code",
   "execution_count": null,
   "metadata": {},
   "outputs": [],
   "source": []
  },
  {
   "cell_type": "code",
   "execution_count": null,
   "metadata": {},
   "outputs": [],
   "source": []
  }
 ],
 "metadata": {
  "kernelspec": {
   "display_name": "lama",
   "language": "python",
   "name": "python3"
  },
  "language_info": {
   "codemirror_mode": {
    "name": "ipython",
    "version": 3
   },
   "file_extension": ".py",
   "mimetype": "text/x-python",
   "name": "python",
   "nbconvert_exporter": "python",
   "pygments_lexer": "ipython3",
   "version": "3.12.4"
  }
 },
 "nbformat": 4,
 "nbformat_minor": 2
}
