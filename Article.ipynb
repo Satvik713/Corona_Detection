{
 "cells": [
  {
   "cell_type": "code",
   "execution_count": 3,
   "metadata": {},
   "outputs": [
    {
     "data": {
      "text/markdown": [
       "\n",
       "# Image Classification and the Rise of CNNs\n",
       "\n",
       "Image classification is one of the most fundamental tasks in computer vision. It plays a critical role in various fields like medical imaging, autonomous vehicles, facial recognition, and more.  \n",
       "The field of Computer Vision has been around for more than a decade now. Since the discovery of the AlexNet architecture by Alex Krizhevsky in 2012, the field has witnessed rapid advancements.  \n",
       "\n",
       "## Why CNNs for Image-Related Tasks?\n",
       "\n",
       "Starting with Convolutional Neural Networks (CNNs), these have been used for image-related tasks from the earliest days. Ever wondered why CNNs were chosen over Recurrent Neural Networks (RNNs), Graph Neural Networks (GNNs), or even simple fully connected neural networks?  \n",
       "\n",
       "### The Answer Lies in the Data  \n",
       "\n",
       "Image data is unique, and this uniqueness corresponds to the architectural strengths of CNNs. CNNs are primarily composed of convolutional layers, which help filter out important features from images.  \n",
       "\n",
       "### Spatial Hierarchies in Images  \n",
       "\n",
       "Images have spatial hierarchies—patterns, edges, textures, and structures distributed across two dimensions. If you've ever taken a course in image processing, you might be familiar with convolution operations used for edge detection. That’s one of the fundamental tasks we rely on for detecting features in images.  \n",
       "\n",
       "But CNNs don’t stop there. They employ mechanisms like **weight sharing** through convolutional kernels to significantly reduce the number of parameters, addressing the high dimensionality of image data. This makes CNNs both computationally efficient and highly effective for image-related tasks.  \n",
       "\n"
      ],
      "text/plain": [
       "<IPython.core.display.Markdown object>"
      ]
     },
     "metadata": {},
     "output_type": "display_data"
    }
   ],
   "source": [
    "from IPython.display import Markdown, display\n",
    "\n",
    "markdown_content = \"\"\"\n",
    "# Image Classification and the Rise of CNNs\n",
    "\n",
    "Image classification is one of the most fundamental tasks in computer vision. It plays a critical role in various fields like medical imaging, autonomous vehicles, facial recognition, and more.  \n",
    "The field of Computer Vision has been around for more than a decade now. Since the discovery of the AlexNet architecture by Alex Krizhevsky in 2012, the field has witnessed rapid advancements.  \n",
    "\n",
    "## Why CNNs for Image-Related Tasks?\n",
    "\n",
    "Starting with Convolutional Neural Networks (CNNs), these have been used for image-related tasks from the earliest days. Ever wondered why CNNs were chosen over Recurrent Neural Networks (RNNs), Graph Neural Networks (GNNs), or even simple fully connected neural networks?  \n",
    "\n",
    "### The Answer Lies in the Data  \n",
    "\n",
    "Image data is unique, and this uniqueness corresponds to the architectural strengths of CNNs. CNNs are primarily composed of convolutional layers, which help filter out important features from images.  \n",
    "\n",
    "### Spatial Hierarchies in Images  \n",
    "\n",
    "Images have spatial hierarchies—patterns, edges, textures, and structures distributed across two dimensions. If you've ever taken a course in image processing, you might be familiar with convolution operations used for edge detection. That’s one of the fundamental tasks we rely on for detecting features in images.  \n",
    "\n",
    "But CNNs don’t stop there. They employ mechanisms like **weight sharing** through convolutional kernels to significantly reduce the number of parameters, addressing the high dimensionality of image data. This makes CNNs both computationally efficient and highly effective for image-related tasks.  \n",
    "\n",
    "\"\"\"\n",
    "\n",
    "display(Markdown(markdown_content))\n"
   ]
  },
  {
   "cell_type": "code",
   "execution_count": 4,
   "metadata": {},
   "outputs": [],
   "source": [
    "from IPython.display import Markdown, display\n",
    "\n",
    "def print_md(markdown_content):\n",
    "    display(Markdown(markdown_content))"
   ]
  },
  {
   "cell_type": "code",
   "execution_count": 5,
   "metadata": {},
   "outputs": [
    {
     "data": {
      "text/markdown": [
       "## Code Implementation of a Simple CNN"
      ],
      "text/plain": [
       "<IPython.core.display.Markdown object>"
      ]
     },
     "metadata": {},
     "output_type": "display_data"
    }
   ],
   "source": [
    "print_md(\"## Code Implementation of a Simple CNN\") "
   ]
  },
  {
   "cell_type": "code",
   "execution_count": 6,
   "metadata": {},
   "outputs": [
    {
     "data": {
      "text/markdown": [
       "### 1. We wil start with exploring the dataset first and then creating a data loader for the same."
      ],
      "text/plain": [
       "<IPython.core.display.Markdown object>"
      ]
     },
     "metadata": {},
     "output_type": "display_data"
    }
   ],
   "source": [
    "print_md(\"### 1. We wil start with exploring the dataset first and then creating a data loader for the same.\") "
   ]
  },
  {
   "cell_type": "code",
   "execution_count": 7,
   "metadata": {},
   "outputs": [
    {
     "data": {
      "text/markdown": [
       " Dataset link: https://www.kaggle.com/datasets/praveengovi/coronahack-chest-xraydataset/data"
      ],
      "text/plain": [
       "<IPython.core.display.Markdown object>"
      ]
     },
     "metadata": {},
     "output_type": "display_data"
    }
   ],
   "source": [
    "print_md(\" Dataset link: https://www.kaggle.com/datasets/praveengovi/coronahack-chest-xraydataset/data\")"
   ]
  },
  {
   "cell_type": "code",
   "execution_count": 8,
   "metadata": {},
   "outputs": [
    {
     "name": "stdout",
     "output_type": "stream",
     "text": [
      "Train set size: 5286\n",
      "Test set size: 624\n",
      "Sample train paths and labels: [('/home/satvik/corona_detection/Coronahack-Chest-XRay-Dataset/Coronahack-Chest-XRay-Dataset/train/IM-0128-0001.jpeg', 'Normal'), ('/home/satvik/corona_detection/Coronahack-Chest-XRay-Dataset/Coronahack-Chest-XRay-Dataset/train/IM-0127-0001.jpeg', 'Normal'), ('/home/satvik/corona_detection/Coronahack-Chest-XRay-Dataset/Coronahack-Chest-XRay-Dataset/train/IM-0125-0001.jpeg', 'Normal'), ('/home/satvik/corona_detection/Coronahack-Chest-XRay-Dataset/Coronahack-Chest-XRay-Dataset/train/IM-0122-0001.jpeg', 'Normal'), ('/home/satvik/corona_detection/Coronahack-Chest-XRay-Dataset/Coronahack-Chest-XRay-Dataset/train/IM-0119-0001.jpeg', 'Normal')]\n",
      "Sample test paths and labels: [('/home/satvik/corona_detection/Coronahack-Chest-XRay-Dataset/Coronahack-Chest-XRay-Dataset/test/IM-0021-0001.jpeg', 'Normal'), ('/home/satvik/corona_detection/Coronahack-Chest-XRay-Dataset/Coronahack-Chest-XRay-Dataset/test/IM-0019-0001.jpeg', 'Normal'), ('/home/satvik/corona_detection/Coronahack-Chest-XRay-Dataset/Coronahack-Chest-XRay-Dataset/test/IM-0017-0001.jpeg', 'Normal'), ('/home/satvik/corona_detection/Coronahack-Chest-XRay-Dataset/Coronahack-Chest-XRay-Dataset/test/IM-0016-0001.jpeg', 'Normal'), ('/home/satvik/corona_detection/Coronahack-Chest-XRay-Dataset/Coronahack-Chest-XRay-Dataset/test/IM-0015-0001.jpeg', 'Normal')]\n"
     ]
    }
   ],
   "source": [
    "import pandas as pd\n",
    "\n",
    "metadata = pd.read_csv(\"/home/satvik/corona_detection/Chest_xray_Corona_Metadata.csv\")\n",
    "base_path = \"/home/satvik/corona_detection/Coronahack-Chest-XRay-Dataset/Coronahack-Chest-XRay-Dataset\"\n",
    "train_dir = f\"{base_path}/train/\"\n",
    "test_dir = f\"{base_path}/test/\"\n",
    "\n",
    "metadata['Full_Image_Path'] = metadata.apply(\n",
    "    lambda row: f\"{train_dir}{row['X_ray_image_name']}\" if row['Dataset_type'] == 'TRAIN' else f\"{test_dir}{row['X_ray_image_name']}\",\n",
    "    axis=1\n",
    ")\n",
    "\n",
    "train_data = metadata[metadata['Dataset_type'] == 'TRAIN']\n",
    "test_data = metadata[metadata['Dataset_type'] == 'TEST']\n",
    "\n",
    "train_paths = train_data['Full_Image_Path'].tolist()\n",
    "train_labels = train_data['Label'].tolist()\n",
    "\n",
    "test_paths = test_data['Full_Image_Path'].tolist()\n",
    "test_labels = test_data['Label'].tolist()\n",
    "\n",
    "print(\"Train set size:\", len(train_paths))\n",
    "print(\"Test set size:\", len(test_paths))\n",
    "\n",
    "print(\"Sample train paths and labels:\", list(zip(train_paths[:5], train_labels[:5])))\n",
    "print(\"Sample test paths and labels:\", list(zip(test_paths[:5], test_labels[:5]))) "
   ]
  },
  {
   "cell_type": "code",
   "execution_count": 9,
   "metadata": {},
   "outputs": [
    {
     "data": {
      "text/markdown": [
       "### 2. Now we will create a custom dataset class to load the data. We'll also apply image tranformation techniques to the images and apply label encoder to encode string labels"
      ],
      "text/plain": [
       "<IPython.core.display.Markdown object>"
      ]
     },
     "metadata": {},
     "output_type": "display_data"
    }
   ],
   "source": [
    "print_md(\"### 2. Now we will create a custom dataset class to load the data. We'll also apply image tranformation techniques to the images and apply label encoder to encode string labels\")"
   ]
  },
  {
   "cell_type": "code",
   "execution_count": 27,
   "metadata": {},
   "outputs": [
    {
     "name": "stdout",
     "output_type": "stream",
     "text": [
      "Normal -> 0\n",
      "Pnemonia -> 1\n"
     ]
    }
   ],
   "source": [
    "from torchvision import transforms\n",
    "from torch.utils.data import DataLoader, Dataset\n",
    "from PIL import Image\n",
    "\n",
    "image_transforms = {\n",
    "    'train': transforms.Compose([\n",
    "        transforms.Resize((224, 224)),\n",
    "        transforms.RandomHorizontalFlip(),\n",
    "        transforms.RandomRotation(15),\n",
    "        transforms.ToTensor(),\n",
    "        transforms.Normalize([0.5], [0.5])  \n",
    "    ]),\n",
    "    'test': transforms.Compose([\n",
    "        transforms.Resize((224, 224)),\n",
    "        transforms.ToTensor(),\n",
    "        transforms.Normalize([0.5], [0.5]) \n",
    "    ])\n",
    "}\n",
    "\n",
    "from sklearn.preprocessing import LabelEncoder\n",
    "\n",
    "label_encoder = LabelEncoder()\n",
    "label_encoder.fit(metadata['Label'])  \n",
    "\n",
    "train_labels_encoded = label_encoder.transform(train_labels)\n",
    "test_labels_encoded = label_encoder.transform(test_labels)\n",
    "\n",
    "for i, label in enumerate(label_encoder.classes_):\n",
    "    print(f\"{label} -> {i}\")\n",
    "\n",
    "class XRayDataset(Dataset):\n",
    "    def __init__(self, image_paths, labels, transform=None):\n",
    "        self.image_paths = image_paths\n",
    "        self.labels = labels  \n",
    "        self.transform = transform\n",
    "\n",
    "    def __len__(self):\n",
    "        return len(self.image_paths)\n",
    "\n",
    "    def __getitem__(self, idx):\n",
    "        image_path = self.image_paths[idx]\n",
    "        image = Image.open(image_path).convert('L')  \n",
    "        if self.transform:\n",
    "            image = self.transform(image)\n",
    "        label = self.labels[idx] \n",
    "\n",
    "        return image, label\n",
    "\n",
    "train_dataset = XRayDataset(train_paths, train_labels_encoded, transform=image_transforms['train'])\n",
    "test_dataset = XRayDataset(test_paths, test_labels_encoded, transform=image_transforms['test'])\n",
    "\n",
    "train_loader = DataLoader(train_dataset, batch_size=8, shuffle=True)\n",
    "test_loader = DataLoader(test_dataset, batch_size=8, shuffle=False)"
   ]
  },
  {
   "cell_type": "code",
   "execution_count": 11,
   "metadata": {},
   "outputs": [
    {
     "data": {
      "text/markdown": [
       "### 3. Now we will define a simple CNN model using PyTorch"
      ],
      "text/plain": [
       "<IPython.core.display.Markdown object>"
      ]
     },
     "metadata": {},
     "output_type": "display_data"
    }
   ],
   "source": [
    "print_md(\"### 3. Now we will define a simple CNN model using PyTorch\")"
   ]
  },
  {
   "cell_type": "code",
   "execution_count": 12,
   "metadata": {},
   "outputs": [
    {
     "name": "stdout",
     "output_type": "stream",
     "text": [
      "SimpleCNN(\n",
      "  (features): Sequential(\n",
      "    (0): Conv2d(1, 32, kernel_size=(3, 3), stride=(1, 1), padding=(1, 1))\n",
      "    (1): ReLU()\n",
      "    (2): MaxPool2d(kernel_size=2, stride=2, padding=0, dilation=1, ceil_mode=False)\n",
      "    (3): Conv2d(32, 64, kernel_size=(3, 3), stride=(1, 1), padding=(1, 1))\n",
      "    (4): ReLU()\n",
      "    (5): MaxPool2d(kernel_size=2, stride=2, padding=0, dilation=1, ceil_mode=False)\n",
      "  )\n",
      "  (classifier): Sequential(\n",
      "    (0): Flatten(start_dim=1, end_dim=-1)\n",
      "    (1): Linear(in_features=200704, out_features=128, bias=True)\n",
      "    (2): ReLU()\n",
      "    (3): Linear(in_features=128, out_features=2, bias=True)\n",
      "  )\n",
      ")\n"
     ]
    }
   ],
   "source": [
    "import torch.nn as nn\n",
    "class SimpleCNN(nn.Module):\n",
    "    def __init__(self, num_classes):\n",
    "        super(SimpleCNN, self).__init__()\n",
    "        self.features = nn.Sequential(\n",
    "            nn.Conv2d(1, 32, kernel_size=3, stride=1, padding=1),\n",
    "            nn.ReLU(),\n",
    "            nn.MaxPool2d(kernel_size=2),\n",
    "            nn.Conv2d(32, 64, kernel_size=3, stride=1, padding=1),\n",
    "            nn.ReLU(),\n",
    "            nn.MaxPool2d(kernel_size=2)\n",
    "        )\n",
    "        flattened_size = 64 * 56 * 56\n",
    "        \n",
    "        self.classifier = nn.Sequential(\n",
    "            nn.Flatten(),\n",
    "            nn.Linear(flattened_size, 128),\n",
    "            nn.ReLU(),\n",
    "            nn.Linear(128, num_classes)\n",
    "        )\n",
    "\n",
    "    def forward(self, x):\n",
    "        x = self.features(x)\n",
    "        x = self.classifier(x)\n",
    "        return x\n",
    "\n",
    "num_classes = len(metadata['Label'].unique())\n",
    "model = SimpleCNN(num_classes)\n",
    "print(model)"
   ]
  },
  {
   "cell_type": "code",
   "execution_count": 13,
   "metadata": {},
   "outputs": [
    {
     "data": {
      "text/markdown": [
       "### 4. Now a task for you is to calculate the nmumber of params in this simple CNN model"
      ],
      "text/plain": [
       "<IPython.core.display.Markdown object>"
      ]
     },
     "metadata": {},
     "output_type": "display_data"
    }
   ],
   "source": [
    "print_md(\"### 4. Now a task for you is to calculate the nmumber of params in this simple CNN model\")"
   ]
  },
  {
   "cell_type": "code",
   "execution_count": 15,
   "metadata": {},
   "outputs": [
    {
     "data": {
      "text/markdown": [
       "### 5. Now we will a function for evals"
      ],
      "text/plain": [
       "<IPython.core.display.Markdown object>"
      ]
     },
     "metadata": {},
     "output_type": "display_data"
    }
   ],
   "source": [
    "print_md(\"### 5. Now we will a function for evals\")"
   ]
  },
  {
   "cell_type": "code",
   "execution_count": 16,
   "metadata": {},
   "outputs": [],
   "source": [
    "import torch\n",
    "from sklearn.metrics import classification_report, confusion_matrix\n",
    "import matplotlib.pyplot as plt\n",
    "import seaborn as sns\n",
    "\n",
    "def evaluate_model(model, dataloader, device):\n",
    "    model.eval()\n",
    "    all_preds, all_labels = [], []\n",
    "    \n",
    "    with torch.no_grad():\n",
    "        for batch in dataloader:\n",
    "            images = batch[0]\n",
    "            labels = torch.tensor(batch[1], dtype=torch.long)\n",
    "            images = images.to(device)\n",
    "            labels = labels.to(device)\n",
    "            \n",
    "            outputs = model(images)\n",
    "            preds = torch.argmax(outputs, dim=1)\n",
    "            all_preds.extend(preds.cpu().numpy())\n",
    "            all_labels.extend(labels.cpu().numpy())\n",
    "                \n",
    "    print(classification_report(all_labels, all_preds))\n",
    "    cm = confusion_matrix(all_labels, all_preds)\n",
    "    sns.heatmap(cm, annot=True, fmt='d', cmap='Blues')\n",
    "    plt.show()"
   ]
  },
  {
   "cell_type": "code",
   "execution_count": 17,
   "metadata": {},
   "outputs": [
    {
     "data": {
      "text/markdown": [
       "### 6. Here we goooo, now we will train the model"
      ],
      "text/plain": [
       "<IPython.core.display.Markdown object>"
      ]
     },
     "metadata": {},
     "output_type": "display_data"
    }
   ],
   "source": [
    "print_md(\"### 6. Here we goooo, now we will train the model\")"
   ]
  },
  {
   "cell_type": "code",
   "execution_count": 18,
   "metadata": {},
   "outputs": [
    {
     "name": "stderr",
     "output_type": "stream",
     "text": [
      "/tmp/ipykernel_277732/3901144993.py:16: UserWarning: To copy construct from a tensor, it is recommended to use sourceTensor.clone().detach() or sourceTensor.clone().detach().requires_grad_(True), rather than torch.tensor(sourceTensor).\n",
      "  labels = torch.tensor(batch[1], dtype=torch.long)\n"
     ]
    },
    {
     "name": "stdout",
     "output_type": "stream",
     "text": [
      "Epoch 1/10 - Loss: 0.2558, Accuracy: 0.9062\n"
     ]
    },
    {
     "name": "stderr",
     "output_type": "stream",
     "text": [
      "/tmp/ipykernel_277732/85101823.py:13: UserWarning: To copy construct from a tensor, it is recommended to use sourceTensor.clone().detach() or sourceTensor.clone().detach().requires_grad_(True), rather than torch.tensor(sourceTensor).\n",
      "  labels = torch.tensor(batch[1], dtype=torch.long)\n"
     ]
    },
    {
     "name": "stdout",
     "output_type": "stream",
     "text": [
      "              precision    recall  f1-score   support\n",
      "\n",
      "           0       0.97      0.28      0.43       234\n",
      "           1       0.70      0.99      0.82       390\n",
      "\n",
      "    accuracy                           0.73       624\n",
      "   macro avg       0.83      0.64      0.63       624\n",
      "weighted avg       0.80      0.73      0.67       624\n",
      "\n"
     ]
    },
    {
     "data": {
      "image/png": "[encoded data removed]",
      "text/plain": [
       "<Figure size 640x480 with 2 Axes>"
      ]
     },
     "metadata": {},
     "output_type": "display_data"
    },
    {
     "name": "stderr",
     "output_type": "stream",
     "text": [
      "/tmp/ipykernel_277732/3901144993.py:16: UserWarning: To copy construct from a tensor, it is recommended to use sourceTensor.clone().detach() or sourceTensor.clone().detach().requires_grad_(True), rather than torch.tensor(sourceTensor).\n",
      "  labels = torch.tensor(batch[1], dtype=torch.long)\n"
     ]
    },
    {
     "name": "stdout",
     "output_type": "stream",
     "text": [
      "Epoch 2/10 - Loss: 0.1376, Accuracy: 0.9480\n"
     ]
    },
    {
     "name": "stderr",
     "output_type": "stream",
     "text": [
      "/tmp/ipykernel_277732/85101823.py:13: UserWarning: To copy construct from a tensor, it is recommended to use sourceTensor.clone().detach() or sourceTensor.clone().detach().requires_grad_(True), rather than torch.tensor(sourceTensor).\n",
      "  labels = torch.tensor(batch[1], dtype=torch.long)\n"
     ]
    },
    {
     "name": "stdout",
     "output_type": "stream",
     "text": [
      "              precision    recall  f1-score   support\n",
      "\n",
      "           0       0.92      0.39      0.55       234\n",
      "           1       0.73      0.98      0.83       390\n",
      "\n",
      "    accuracy                           0.76       624\n",
      "   macro avg       0.82      0.68      0.69       624\n",
      "weighted avg       0.80      0.76      0.73       624\n",
      "\n"
     ]
    },
    {
     "data": {
      "image/png": "[encoded data removed]",
      "text/plain": [
       "<Figure size 640x480 with 2 Axes>"
      ]
     },
     "metadata": {},
     "output_type": "display_data"
    },
    {
     "name": "stderr",
     "output_type": "stream",
     "text": [
      "/tmp/ipykernel_277732/3901144993.py:16: UserWarning: To copy construct from a tensor, it is recommended to use sourceTensor.clone().detach() or sourceTensor.clone().detach().requires_grad_(True), rather than torch.tensor(sourceTensor).\n",
      "  labels = torch.tensor(batch[1], dtype=torch.long)\n"
     ]
    },
    {
     "name": "stdout",
     "output_type": "stream",
     "text": [
      "Epoch 3/10 - Loss: 0.1226, Accuracy: 0.9540\n"
     ]
    },
    {
     "name": "stderr",
     "output_type": "stream",
     "text": [
      "/tmp/ipykernel_277732/85101823.py:13: UserWarning: To copy construct from a tensor, it is recommended to use sourceTensor.clone().detach() or sourceTensor.clone().detach().requires_grad_(True), rather than torch.tensor(sourceTensor).\n",
      "  labels = torch.tensor(batch[1], dtype=torch.long)\n"
     ]
    },
    {
     "name": "stdout",
     "output_type": "stream",
     "text": [
      "              precision    recall  f1-score   support\n",
      "\n",
      "           0       0.83      0.73      0.78       234\n",
      "           1       0.85      0.91      0.88       390\n",
      "\n",
      "    accuracy                           0.84       624\n",
      "   macro avg       0.84      0.82      0.83       624\n",
      "weighted avg       0.84      0.84      0.84       624\n",
      "\n"
     ]
    },
    {
     "data": {
      "image/png": "[encoded data removed]",
      "text/plain": [
       "<Figure size 640x480 with 2 Axes>"
      ]
     },
     "metadata": {},
     "output_type": "display_data"
    },
    {
     "name": "stderr",
     "output_type": "stream",
     "text": [
      "/tmp/ipykernel_277732/3901144993.py:16: UserWarning: To copy construct from a tensor, it is recommended to use sourceTensor.clone().detach() or sourceTensor.clone().detach().requires_grad_(True), rather than torch.tensor(sourceTensor).\n",
      "  labels = torch.tensor(batch[1], dtype=torch.long)\n"
     ]
    },
    {
     "name": "stdout",
     "output_type": "stream",
     "text": [
      "Epoch 4/10 - Loss: 0.1110, Accuracy: 0.9582\n"
     ]
    },
    {
     "name": "stderr",
     "output_type": "stream",
     "text": [
      "/tmp/ipykernel_277732/85101823.py:13: UserWarning: To copy construct from a tensor, it is recommended to use sourceTensor.clone().detach() or sourceTensor.clone().detach().requires_grad_(True), rather than torch.tensor(sourceTensor).\n",
      "  labels = torch.tensor(batch[1], dtype=torch.long)\n"
     ]
    },
    {
     "name": "stdout",
     "output_type": "stream",
     "text": [
      "              precision    recall  f1-score   support\n",
      "\n",
      "           0       0.96      0.29      0.44       234\n",
      "           1       0.70      0.99      0.82       390\n",
      "\n",
      "    accuracy                           0.73       624\n",
      "   macro avg       0.83      0.64      0.63       624\n",
      "weighted avg       0.80      0.73      0.68       624\n",
      "\n"
     ]
    },
    {
     "data": {
      "image/png": "[encoded data removed]",
      "text/plain": [
       "<Figure size 640x480 with 2 Axes>"
      ]
     },
     "metadata": {},
     "output_type": "display_data"
    },
    {
     "name": "stderr",
     "output_type": "stream",
     "text": [
      "/tmp/ipykernel_277732/3901144993.py:16: UserWarning: To copy construct from a tensor, it is recommended to use sourceTensor.clone().detach() or sourceTensor.clone().detach().requires_grad_(True), rather than torch.tensor(sourceTensor).\n",
      "  labels = torch.tensor(batch[1], dtype=torch.long)\n"
     ]
    },
    {
     "name": "stdout",
     "output_type": "stream",
     "text": [
      "Epoch 5/10 - Loss: 0.1074, Accuracy: 0.9595\n"
     ]
    },
    {
     "name": "stderr",
     "output_type": "stream",
     "text": [
      "/tmp/ipykernel_277732/85101823.py:13: UserWarning: To copy construct from a tensor, it is recommended to use sourceTensor.clone().detach() or sourceTensor.clone().detach().requires_grad_(True), rather than torch.tensor(sourceTensor).\n",
      "  labels = torch.tensor(batch[1], dtype=torch.long)\n"
     ]
    },
    {
     "name": "stdout",
     "output_type": "stream",
     "text": [
      "              precision    recall  f1-score   support\n",
      "\n",
      "           0       0.94      0.53      0.68       234\n",
      "           1       0.78      0.98      0.87       390\n",
      "\n",
      "    accuracy                           0.81       624\n",
      "   macro avg       0.86      0.75      0.77       624\n",
      "weighted avg       0.84      0.81      0.80       624\n",
      "\n"
     ]
    },
    {
     "data": {
      "image/png": "[encoded data removed]",
      "text/plain": [
       "<Figure size 640x480 with 2 Axes>"
      ]
     },
     "metadata": {},
     "output_type": "display_data"
    },
    {
     "name": "stderr",
     "output_type": "stream",
     "text": [
      "/tmp/ipykernel_277732/3901144993.py:16: UserWarning: To copy construct from a tensor, it is recommended to use sourceTensor.clone().detach() or sourceTensor.clone().detach().requires_grad_(True), rather than torch.tensor(sourceTensor).\n",
      "  labels = torch.tensor(batch[1], dtype=torch.long)\n"
     ]
    },
    {
     "name": "stdout",
     "output_type": "stream",
     "text": [
      "Epoch 6/10 - Loss: 0.1024, Accuracy: 0.9612\n"
     ]
    },
    {
     "name": "stderr",
     "output_type": "stream",
     "text": [
      "/tmp/ipykernel_277732/85101823.py:13: UserWarning: To copy construct from a tensor, it is recommended to use sourceTensor.clone().detach() or sourceTensor.clone().detach().requires_grad_(True), rather than torch.tensor(sourceTensor).\n",
      "  labels = torch.tensor(batch[1], dtype=torch.long)\n"
     ]
    },
    {
     "name": "stdout",
     "output_type": "stream",
     "text": [
      "              precision    recall  f1-score   support\n",
      "\n",
      "           0       0.96      0.31      0.47       234\n",
      "           1       0.71      0.99      0.83       390\n",
      "\n",
      "    accuracy                           0.74       624\n",
      "   macro avg       0.83      0.65      0.65       624\n",
      "weighted avg       0.80      0.74      0.69       624\n",
      "\n"
     ]
    },
    {
     "data": {
      "image/png": "[encoded data removed]",
      "text/plain": [
       "<Figure size 640x480 with 2 Axes>"
      ]
     },
     "metadata": {},
     "output_type": "display_data"
    },
    {
     "name": "stderr",
     "output_type": "stream",
     "text": [
      "/tmp/ipykernel_277732/3901144993.py:16: UserWarning: To copy construct from a tensor, it is recommended to use sourceTensor.clone().detach() or sourceTensor.clone().detach().requires_grad_(True), rather than torch.tensor(sourceTensor).\n",
      "  labels = torch.tensor(batch[1], dtype=torch.long)\n"
     ]
    },
    {
     "name": "stdout",
     "output_type": "stream",
     "text": [
      "Epoch 7/10 - Loss: 0.0864, Accuracy: 0.9688\n"
     ]
    },
    {
     "name": "stderr",
     "output_type": "stream",
     "text": [
      "/tmp/ipykernel_277732/85101823.py:13: UserWarning: To copy construct from a tensor, it is recommended to use sourceTensor.clone().detach() or sourceTensor.clone().detach().requires_grad_(True), rather than torch.tensor(sourceTensor).\n",
      "  labels = torch.tensor(batch[1], dtype=torch.long)\n"
     ]
    },
    {
     "name": "stdout",
     "output_type": "stream",
     "text": [
      "              precision    recall  f1-score   support\n",
      "\n",
      "           0       0.96      0.49      0.65       234\n",
      "           1       0.76      0.99      0.86       390\n",
      "\n",
      "    accuracy                           0.80       624\n",
      "   macro avg       0.86      0.74      0.76       624\n",
      "weighted avg       0.84      0.80      0.78       624\n",
      "\n"
     ]
    },
    {
     "data": {
      "image/png": "[encoded data removed]",
      "text/plain": [
       "<Figure size 640x480 with 2 Axes>"
      ]
     },
     "metadata": {},
     "output_type": "display_data"
    },
    {
     "name": "stderr",
     "output_type": "stream",
     "text": [
      "/tmp/ipykernel_277732/3901144993.py:16: UserWarning: To copy construct from a tensor, it is recommended to use sourceTensor.clone().detach() or sourceTensor.clone().detach().requires_grad_(True), rather than torch.tensor(sourceTensor).\n",
      "  labels = torch.tensor(batch[1], dtype=torch.long)\n"
     ]
    },
    {
     "name": "stdout",
     "output_type": "stream",
     "text": [
      "Epoch 8/10 - Loss: 0.0864, Accuracy: 0.9694\n"
     ]
    },
    {
     "name": "stderr",
     "output_type": "stream",
     "text": [
      "/tmp/ipykernel_277732/85101823.py:13: UserWarning: To copy construct from a tensor, it is recommended to use sourceTensor.clone().detach() or sourceTensor.clone().detach().requires_grad_(True), rather than torch.tensor(sourceTensor).\n",
      "  labels = torch.tensor(batch[1], dtype=torch.long)\n"
     ]
    },
    {
     "name": "stdout",
     "output_type": "stream",
     "text": [
      "              precision    recall  f1-score   support\n",
      "\n",
      "           0       0.90      0.48      0.63       234\n",
      "           1       0.76      0.97      0.85       390\n",
      "\n",
      "    accuracy                           0.79       624\n",
      "   macro avg       0.83      0.72      0.74       624\n",
      "weighted avg       0.81      0.79      0.77       624\n",
      "\n"
     ]
    },
    {
     "data": {
      "image/png": "[encoded data removed]",
      "text/plain": [
       "<Figure size 640x480 with 2 Axes>"
      ]
     },
     "metadata": {},
     "output_type": "display_data"
    },
    {
     "name": "stderr",
     "output_type": "stream",
     "text": [
      "/tmp/ipykernel_277732/3901144993.py:16: UserWarning: To copy construct from a tensor, it is recommended to use sourceTensor.clone().detach() or sourceTensor.clone().detach().requires_grad_(True), rather than torch.tensor(sourceTensor).\n",
      "  labels = torch.tensor(batch[1], dtype=torch.long)\n"
     ]
    },
    {
     "name": "stdout",
     "output_type": "stream",
     "text": [
      "Epoch 9/10 - Loss: 0.0890, Accuracy: 0.9688\n"
     ]
    },
    {
     "name": "stderr",
     "output_type": "stream",
     "text": [
      "/tmp/ipykernel_277732/85101823.py:13: UserWarning: To copy construct from a tensor, it is recommended to use sourceTensor.clone().detach() or sourceTensor.clone().detach().requires_grad_(True), rather than torch.tensor(sourceTensor).\n",
      "  labels = torch.tensor(batch[1], dtype=torch.long)\n"
     ]
    },
    {
     "name": "stdout",
     "output_type": "stream",
     "text": [
      "              precision    recall  f1-score   support\n",
      "\n",
      "           0       0.95      0.41      0.57       234\n",
      "           1       0.74      0.99      0.84       390\n",
      "\n",
      "    accuracy                           0.77       624\n",
      "   macro avg       0.84      0.70      0.71       624\n",
      "weighted avg       0.82      0.77      0.74       624\n",
      "\n"
     ]
    },
    {
     "data": {
      "image/png": "[encoded data removed]",
      "text/plain": [
       "<Figure size 640x480 with 2 Axes>"
      ]
     },
     "metadata": {},
     "output_type": "display_data"
    },
    {
     "name": "stderr",
     "output_type": "stream",
     "text": [
      "/tmp/ipykernel_277732/3901144993.py:16: UserWarning: To copy construct from a tensor, it is recommended to use sourceTensor.clone().detach() or sourceTensor.clone().detach().requires_grad_(True), rather than torch.tensor(sourceTensor).\n",
      "  labels = torch.tensor(batch[1], dtype=torch.long)\n"
     ]
    },
    {
     "name": "stdout",
     "output_type": "stream",
     "text": [
      "Epoch 10/10 - Loss: 0.0790, Accuracy: 0.9697\n"
     ]
    },
    {
     "name": "stderr",
     "output_type": "stream",
     "text": [
      "/tmp/ipykernel_277732/85101823.py:13: UserWarning: To copy construct from a tensor, it is recommended to use sourceTensor.clone().detach() or sourceTensor.clone().detach().requires_grad_(True), rather than torch.tensor(sourceTensor).\n",
      "  labels = torch.tensor(batch[1], dtype=torch.long)\n"
     ]
    },
    {
     "name": "stdout",
     "output_type": "stream",
     "text": [
      "              precision    recall  f1-score   support\n",
      "\n",
      "           0       0.96      0.36      0.53       234\n",
      "           1       0.72      0.99      0.83       390\n",
      "\n",
      "    accuracy                           0.75       624\n",
      "   macro avg       0.84      0.68      0.68       624\n",
      "weighted avg       0.81      0.75      0.72       624\n",
      "\n"
     ]
    },
    {
     "data": {
      "image/png": "[encoded data removed]",
      "text/plain": [
       "<Figure size 640x480 with 2 Axes>"
      ]
     },
     "metadata": {},
     "output_type": "display_data"
    },
    {
     "name": "stdout",
     "output_type": "stream",
     "text": [
      "Model saved to simple_cnn_model.pth\n",
      "Training complete\n"
     ]
    }
   ],
   "source": [
    "import torch.optim as optim\n",
    "\n",
    "def train_model(model, train_loader, test_loader, num_epochs, device, learning_rate=0.001, save_path=\"model.pth\"):\n",
    "    model.to(device)\n",
    "    criterion = nn.CrossEntropyLoss()\n",
    "    optimizer = optim.Adam(model.parameters(), lr=learning_rate)\n",
    "\n",
    "    for epoch in range(num_epochs):\n",
    "        model.train()\n",
    "        running_loss = 0.0\n",
    "        correct = 0\n",
    "        total = 0\n",
    "        \n",
    "        for batch in train_loader:\n",
    "            images = batch[0]\n",
    "            labels = torch.tensor(batch[1], dtype=torch.long)\n",
    "            \n",
    "            images = images.to(device)\n",
    "            labels = labels.to(device)\n",
    "\n",
    "            optimizer.zero_grad()\n",
    "            outputs = model(images)\n",
    "            loss = criterion(outputs, labels)\n",
    "            loss.backward()\n",
    "            optimizer.step()\n",
    "\n",
    "            running_loss += loss.item()\n",
    "            _, preds = torch.max(outputs, 1)\n",
    "            correct += (preds == labels).sum().item()\n",
    "            total += labels.size(0)\n",
    "\n",
    "        epoch_loss = running_loss / len(train_loader)\n",
    "        epoch_accuracy = correct / total\n",
    "\n",
    "        print(f\"Epoch {epoch+1}/{num_epochs} - Loss: {epoch_loss:.4f}, Accuracy: {epoch_accuracy:.4f}\")\n",
    "        evaluate_model(model, test_loader, device)\n",
    "\n",
    "    torch.save(model.state_dict(), save_path)\n",
    "    print(f\"Model saved to {save_path}\")\n",
    "\n",
    "    print(\"Training complete\")\n",
    "\n",
    "num_classes = len(metadata['Label'].unique())\n",
    "model = SimpleCNN(num_classes)\n",
    "device = torch.device(\"cuda\" if torch.cuda.is_available() else \"cpu\")\n",
    "train_model(model, train_loader, test_loader, num_epochs=10, device=device, save_path=\"simple_cnn_model.pth\")\n"
   ]
  },
  {
   "cell_type": "code",
   "execution_count": 29,
   "metadata": {},
   "outputs": [
    {
     "data": {
      "text/markdown": [
       "### 7. Now we will evaluate the model"
      ],
      "text/plain": [
       "<IPython.core.display.Markdown object>"
      ]
     },
     "metadata": {},
     "output_type": "display_data"
    }
   ],
   "source": [
    "print_md(\"### 7. Now we will evaluate the model\")"
   ]
  },
  {
   "cell_type": "code",
   "execution_count": 28,
   "metadata": {},
   "outputs": [
    {
     "name": "stdout",
     "output_type": "stream",
     "text": [
      "Test Accuracy: 75.48%\n"
     ]
    }
   ],
   "source": [
    "model.eval()\n",
    "test_predictions = []\n",
    "test_labels_list = []\n",
    "\n",
    "with torch.no_grad():\n",
    "    for images, labels in test_loader:\n",
    "        images, labels = images.to(device), labels.to(device)\n",
    "\n",
    "        outputs = model(images)\n",
    "\n",
    "        _, predicted = torch.max(outputs, 1)\n",
    "        test_predictions.extend(predicted.cpu().numpy())\n",
    "        test_labels_list.extend(labels.cpu().numpy())\n",
    "\n",
    "from sklearn.metrics import accuracy_score\n",
    "test_accuracy = accuracy_score(test_labels_list, test_predictions) * 100\n",
    "print(f\"Test Accuracy: {test_accuracy:.2f}%\")"
   ]
  },
  {
   "cell_type": "code",
   "execution_count": 30,
   "metadata": {},
   "outputs": [
    {
     "data": {
      "text/markdown": [
       "### 8. Now if you want to visulaize the model architecture you can use the following code"
      ],
      "text/plain": [
       "<IPython.core.display.Markdown object>"
      ]
     },
     "metadata": {},
     "output_type": "display_data"
    }
   ],
   "source": [
    "print_md(\"### 8. Now if you want to visulaize the model architecture you can use the following code\")"
   ]
  },
  {
   "cell_type": "code",
   "execution_count": 36,
   "metadata": {},
   "outputs": [
    {
     "name": "stderr",
     "output_type": "stream",
     "text": [
      "/tmp/ipykernel_277732/1009234327.py:4: FutureWarning: You are using `torch.load` with `weights_only=False` (the current default value), which uses the default pickle module implicitly. It is possible to construct malicious pickle data which will execute arbitrary code during unpickling (See https://github.com/pytorch/pytorch/blob/main/SECURITY.md#untrusted-models for more details). In a future release, the default value for `weights_only` will be flipped to `True`. This limits the functions that could be executed during unpickling. Arbitrary objects will no longer be allowed to be loaded via this mode unless they are explicitly allowlisted by the user via `torch.serialization.add_safe_globals`. We recommend you start setting `weights_only=True` for any use case where you don't have full control of the loaded file. Please open an issue on GitHub for any issues related to this experimental feature.\n",
      "  state_dict = torch.load(\"/home/satvik/corona_detection/simple_cnn.pth\")\n"
     ]
    },
    {
     "data": {
      "text/plain": [
       "'model_graph.png'"
      ]
     },
     "execution_count": 36,
     "metadata": {},
     "output_type": "execute_result"
    }
   ],
   "source": [
    "from torchviz import make_dot\n",
    "\n",
    "model = SimpleCNN(num_classes=2)\n",
    "state_dict = torch.load(\"/home/satvik/corona_detection/simple_cnn.pth\")\n",
    "if isinstance(state_dict, dict): \n",
    "    model.load_state_dict(state_dict)\n",
    "else:\n",
    "    model = state_dict  \n",
    "\n",
    "device = torch.device('cuda' if torch.cuda.is_available() else 'cpu')\n",
    "model = model.to(device)\n",
    "\n",
    "for batch in train_loader:\n",
    "    images, labels = batch\n",
    "    image = images[0].unsqueeze(0).to(device)  \n",
    "    break\n",
    "\n",
    "output = model(image)\n",
    "make_dot(output, params=dict(model.named_parameters())).render(\"model_graph\", format=\"png\")"
   ]
  },
  {
   "cell_type": "markdown",
   "metadata": {},
   "source": [
    "![Local image](model_graph.png)"
   ]
  },
  {
   "cell_type": "code",
   "execution_count": 31,
   "metadata": {},
   "outputs": [
    {
     "data": {
      "text/markdown": [
       "### 9. The most interesting fact about CNNs is you can visualise the filters from the trained model"
      ],
      "text/plain": [
       "<IPython.core.display.Markdown object>"
      ]
     },
     "metadata": {},
     "output_type": "display_data"
    }
   ],
   "source": [
    "print_md(\"### 9. The most interesting fact about CNNs is you can visualise the filters from the trained model\")"
   ]
  },
  {
   "cell_type": "code",
   "execution_count": 33,
   "metadata": {},
   "outputs": [
    {
     "name": "stdout",
     "output_type": "stream",
     "text": [
      "Visualizing filters of first Conv2d (1 -> 32 channels):\n"
     ]
    },
    {
     "data": {
      "image/png": "[encoded data removed]",
      "text/plain": [
       "<Figure size 1200x1200 with 32 Axes>"
      ]
     },
     "metadata": {},
     "output_type": "display_data"
    },
    {
     "name": "stdout",
     "output_type": "stream",
     "text": [
      "Visualizing filters of second Conv2d (32 -> 64 channels):\n"
     ]
    },
    {
     "data": {
      "image/png": "[encoded data removed]",
      "text/plain": [
       "<Figure size 1200x1200 with 64 Axes>"
      ]
     },
     "metadata": {},
     "output_type": "display_data"
    }
   ],
   "source": [
    "import torch\n",
    "import matplotlib.pyplot as plt\n",
    "\n",
    "conv1_weights = model.features[0].weight.data.cpu().numpy()  \n",
    "conv2_weights = model.features[3].weight.data.cpu().numpy()  \n",
    "\n",
    "def visualize_filters(filters, num_columns=8):\n",
    "    num_filters = filters.shape[0]\n",
    "    num_rows = (num_filters + num_columns - 1) // num_columns\n",
    "    fig, axes = plt.subplots(num_rows, num_columns, figsize=(12, 12))\n",
    "    axes = axes.flatten()\n",
    "\n",
    "    for i in range(num_filters):\n",
    "        ax = axes[i]\n",
    "        ax.imshow(filters[i, 0, :, :], cmap='gray')\n",
    "        ax.axis('off')\n",
    "\n",
    "    for i in range(num_filters, len(axes)):\n",
    "        axes[i].axis('off')\n",
    "\n",
    "    plt.show()\n",
    "\n",
    "print(\"Visualizing filters of first Conv2d (1 -> 32 channels):\")\n",
    "visualize_filters(conv1_weights)\n",
    "\n",
    "print(\"Visualizing filters of second Conv2d (32 -> 64 channels):\")\n",
    "visualize_filters(conv2_weights)"
   ]
  },
  {
   "cell_type": "code",
   "execution_count": 34,
   "metadata": {},
   "outputs": [
    {
     "data": {
      "text/markdown": [
       "### 10. What do you think those black pixels represent in the filter visualization?\n",
       "         \n",
       "         #### The black pixels in the filter visualization represent the weights that are close to zero. These weights are not contributing to the feature extraction process.\n",
       "\n",
       "            ### But why does 32->64 filters have more black pixels than 1->32 filters?\n",
       "         \n",
       "         ### The answer is simple - because the first set of filters learn simpler features and hence they produce more activations whereas the second set of filters learn more complex features and hence they produce fewer activations. \n",
       "\n",
       "         "
      ],
      "text/plain": [
       "<IPython.core.display.Markdown object>"
      ]
     },
     "metadata": {},
     "output_type": "display_data"
    }
   ],
   "source": [
    "print_md(\"\"\"### 10. What do you think those black pixels represent in the filter visualization?\n",
    "         \n",
    "         #### The black pixels in the filter visualization represent the weights that are close to zero. These weights are not contributing to the feature extraction process.\n",
    "\n",
    "            ### But why does 32->64 filters have more black pixels than 1->32 filters?\n",
    "         \n",
    "         ### The answer is simple - because the first set of filters learn simpler features and hence they produce more activations whereas the second set of filters learn more complex features and hence they produce fewer activations. \n",
    "\n",
    "         \"\"\")"
   ]
  },
  {
   "cell_type": "code",
   "execution_count": 19,
   "metadata": {},
   "outputs": [
    {
     "data": {
      "text/markdown": [
       "\n",
       "# Giga CNNs and Their Usefulness\n",
       "\n",
       "Let’s talk about **Giga CNNs** and why they are useful. One great example of a large Convolutional Neural Network (CNN) is **VGG16**, developed by the Visual Geometry Group at Harvard when they were participating in the ImageNet competition.\n",
       "\n",
       "VGG16 is a **huge model** with more than **100 million parameters**. There are many complexities associated with models like VGG16, which make them particularly good at **computer vision tasks**. A few of these complexities for VGG16 include:\n",
       "\n",
       "1. **A deep network always performs better than a shallow one** (but there is a limit to this too). Deeper networks have the capacity to capture more complex patterns in the data.\n",
       "2. One of the **key innovations** they introduced was using **small 3x3 convolutional filters**. Multiple such filters allow the model to learn complex patterns by combining smaller units, making the model powerful and efficient at recognizing patterns in images.\n"
      ],
      "text/plain": [
       "<IPython.core.display.Markdown object>"
      ]
     },
     "metadata": {},
     "output_type": "display_data"
    }
   ],
   "source": [
    "markdown_content = \"\"\"\n",
    "# Giga CNNs and Their Usefulness\n",
    "\n",
    "Let’s talk about **Giga CNNs** and why they are useful. One great example of a large Convolutional Neural Network (CNN) is **VGG16**, developed by the Visual Geometry Group at Harvard when they were participating in the ImageNet competition.\n",
    "\n",
    "VGG16 is a **huge model** with more than **100 million parameters**. There are many complexities associated with models like VGG16, which make them particularly good at **computer vision tasks**. A few of these complexities for VGG16 include:\n",
    "\n",
    "1. **A deep network always performs better than a shallow one** (but there is a limit to this too). Deeper networks have the capacity to capture more complex patterns in the data.\n",
    "2. One of the **key innovations** they introduced was using **small 3x3 convolutional filters**. Multiple such filters allow the model to learn complex patterns by combining smaller units, making the model powerful and efficient at recognizing patterns in images.\n",
    "\"\"\"\n",
    "\n",
    "print_md(markdown_content)"
   ]
  },
  {
   "cell_type": "code",
   "execution_count": 46,
   "metadata": {},
   "outputs": [
    {
     "data": {
      "text/markdown": [
       " ## Representation of VGG16 Model"
      ],
      "text/plain": [
       "<IPython.core.display.Markdown object>"
      ]
     },
     "metadata": {},
     "output_type": "display_data"
    }
   ],
   "source": [
    "print_md(\" ## Representation of VGG16 Model layers\")"
   ]
  },
  {
   "cell_type": "markdown",
   "metadata": {},
   "source": [
    "![Local image](/home/satvik/corona_detection/new41.jpg)"
   ]
  },
  {
   "cell_type": "code",
   "execution_count": null,
   "metadata": {},
   "outputs": [],
   "source": [
    "print_md(\"## Now let's load a pre-trained VGG16 model and see how it performs on our dataset\")"
   ]
  },
  {
   "cell_type": "code",
   "execution_count": 20,
   "metadata": {},
   "outputs": [
    {
     "data": {
      "text/markdown": [
       " We will slightly tweak the image transformation part and create a new dataloader because vgg16 model architecture expects 3 channels in the input image"
      ],
      "text/plain": [
       "<IPython.core.display.Markdown object>"
      ]
     },
     "metadata": {},
     "output_type": "display_data"
    }
   ],
   "source": [
    "print_md(\" We will slightly tweak the image transformation part and create a new dataloader because vgg16 model architecture expects 3 channels in the input image\") "
   ]
  },
  {
   "cell_type": "code",
   "execution_count": 21,
   "metadata": {},
   "outputs": [
    {
     "name": "stdout",
     "output_type": "stream",
     "text": [
      "Train set size: 5286\n",
      "Test set size: 624\n",
      "Sample train paths and labels: [('/home/satvik/corona_detection/Coronahack-Chest-XRay-Dataset/Coronahack-Chest-XRay-Dataset/train/IM-0128-0001.jpeg', 'Normal'), ('/home/satvik/corona_detection/Coronahack-Chest-XRay-Dataset/Coronahack-Chest-XRay-Dataset/train/IM-0127-0001.jpeg', 'Normal'), ('/home/satvik/corona_detection/Coronahack-Chest-XRay-Dataset/Coronahack-Chest-XRay-Dataset/train/IM-0125-0001.jpeg', 'Normal'), ('/home/satvik/corona_detection/Coronahack-Chest-XRay-Dataset/Coronahack-Chest-XRay-Dataset/train/IM-0122-0001.jpeg', 'Normal'), ('/home/satvik/corona_detection/Coronahack-Chest-XRay-Dataset/Coronahack-Chest-XRay-Dataset/train/IM-0119-0001.jpeg', 'Normal')]\n",
      "Sample test paths and labels: [('/home/satvik/corona_detection/Coronahack-Chest-XRay-Dataset/Coronahack-Chest-XRay-Dataset/test/IM-0021-0001.jpeg', 'Normal'), ('/home/satvik/corona_detection/Coronahack-Chest-XRay-Dataset/Coronahack-Chest-XRay-Dataset/test/IM-0019-0001.jpeg', 'Normal'), ('/home/satvik/corona_detection/Coronahack-Chest-XRay-Dataset/Coronahack-Chest-XRay-Dataset/test/IM-0017-0001.jpeg', 'Normal'), ('/home/satvik/corona_detection/Coronahack-Chest-XRay-Dataset/Coronahack-Chest-XRay-Dataset/test/IM-0016-0001.jpeg', 'Normal'), ('/home/satvik/corona_detection/Coronahack-Chest-XRay-Dataset/Coronahack-Chest-XRay-Dataset/test/IM-0015-0001.jpeg', 'Normal')]\n",
      "Label encoding mapping:\n",
      "Normal -> 0\n",
      "Pnemonia -> 1\n"
     ]
    }
   ],
   "source": [
    "metadata = pd.read_csv(\"/home/satvik/corona_detection/Chest_xray_Corona_Metadata.csv\")\n",
    "base_path = \"/home/satvik/corona_detection/Coronahack-Chest-XRay-Dataset/Coronahack-Chest-XRay-Dataset\"\n",
    "train_dir = f\"{base_path}/train/\"\n",
    "test_dir = f\"{base_path}/test/\"\n",
    "\n",
    "metadata['Full_Image_Path'] = metadata.apply(\n",
    "    lambda row: f\"{train_dir}{row['X_ray_image_name']}\" if row['Dataset_type'] == 'TRAIN' else f\"{test_dir}{row['X_ray_image_name']}\",\n",
    "    axis=1\n",
    ")\n",
    "\n",
    "train_data = metadata[metadata['Dataset_type'] == 'TRAIN']\n",
    "test_data = metadata[metadata['Dataset_type'] == 'TEST']\n",
    "\n",
    "train_paths = train_data['Full_Image_Path'].tolist()\n",
    "train_labels = train_data['Label'].tolist()\n",
    "\n",
    "test_paths = test_data['Full_Image_Path'].tolist()\n",
    "test_labels = test_data['Label'].tolist()\n",
    "\n",
    "print(\"Train set size:\", len(train_paths))\n",
    "print(\"Test set size:\", len(test_paths))\n",
    "\n",
    "print(\"Sample train paths and labels:\", list(zip(train_paths[:5], train_labels[:5])))\n",
    "print(\"Sample test paths and labels:\", list(zip(test_paths[:5], test_labels[:5])))\n",
    "\n",
    "image_transforms = {\n",
    "    'train': transforms.Compose([\n",
    "        transforms.Resize((224, 224)),\n",
    "        transforms.RandomHorizontalFlip(),\n",
    "        transforms.RandomRotation(15),\n",
    "        transforms.ToTensor(),\n",
    "        transforms.Normalize([0.5, 0.5, 0.5], [0.5, 0.5, 0.5])  \n",
    "    ]),\n",
    "    'test': transforms.Compose([\n",
    "        transforms.Resize((224, 224)),\n",
    "        transforms.ToTensor(),\n",
    "        transforms.Normalize([0.5, 0.5, 0.5], [0.5, 0.5, 0.5])  \n",
    "    ])\n",
    "}\n",
    "\n",
    "label_encoder = LabelEncoder()\n",
    "label_encoder.fit(metadata['Label'])\n",
    "\n",
    "train_labels_encoded = label_encoder.transform(train_labels)\n",
    "test_labels_encoded = label_encoder.transform(test_labels)\n",
    "\n",
    "print(\"Label encoding mapping:\")\n",
    "for i, label in enumerate(label_encoder.classes_):\n",
    "    print(f\"{label} -> {i}\")\n",
    "\n",
    "class XRayDataset(Dataset):\n",
    "    def __init__(self, image_paths, labels, transform=None):\n",
    "        self.image_paths = image_paths\n",
    "        self.labels = labels\n",
    "        self.transform = transform\n",
    "\n",
    "    def __len__(self):\n",
    "        return len(self.image_paths)\n",
    "\n",
    "    def __getitem__(self, idx):\n",
    "        image_path = self.image_paths[idx]\n",
    "        image = Image.open(image_path).convert('RGB') \n",
    "        if self.transform:\n",
    "            image = self.transform(image)\n",
    "        label = self.labels[idx]\n",
    "        return image, label\n",
    "\n",
    "train_dataset = XRayDataset(train_paths, train_labels_encoded, transform=image_transforms['train'])\n",
    "test_dataset = XRayDataset(test_paths, test_labels_encoded, transform=image_transforms['test'])\n",
    "\n",
    "train_loader = DataLoader(train_dataset, batch_size=8, shuffle=True)\n",
    "test_loader = DataLoader(test_dataset, batch_size=8, shuffle=False)"
   ]
  },
  {
   "cell_type": "code",
   "execution_count": 22,
   "metadata": {},
   "outputs": [
    {
     "name": "stderr",
     "output_type": "stream",
     "text": [
      "/home/satvik/miniconda3/envs/lama/lib/python3.12/site-packages/torchvision/models/_utils.py:208: UserWarning: The parameter 'pretrained' is deprecated since 0.13 and may be removed in the future, please use 'weights' instead.\n",
      "  warnings.warn(\n",
      "/home/satvik/miniconda3/envs/lama/lib/python3.12/site-packages/torchvision/models/_utils.py:223: UserWarning: Arguments other than a weight enum or `None` for 'weights' are deprecated since 0.13 and may be removed in the future. The current behavior is equivalent to passing `weights=VGG16_Weights.IMAGENET1K_V1`. You can also use `weights=VGG16_Weights.DEFAULT` to get the most up-to-date weights.\n",
      "  warnings.warn(msg)\n"
     ]
    },
    {
     "data": {
      "text/plain": [
       "VGG(\n",
       "  (features): Sequential(\n",
       "    (0): Conv2d(3, 64, kernel_size=(3, 3), stride=(1, 1), padding=(1, 1))\n",
       "    (1): ReLU(inplace=True)\n",
       "    (2): Conv2d(64, 64, kernel_size=(3, 3), stride=(1, 1), padding=(1, 1))\n",
       "    (3): ReLU(inplace=True)\n",
       "    (4): MaxPool2d(kernel_size=2, stride=2, padding=0, dilation=1, ceil_mode=False)\n",
       "    (5): Conv2d(64, 128, kernel_size=(3, 3), stride=(1, 1), padding=(1, 1))\n",
       "    (6): ReLU(inplace=True)\n",
       "    (7): Conv2d(128, 128, kernel_size=(3, 3), stride=(1, 1), padding=(1, 1))\n",
       "    (8): ReLU(inplace=True)\n",
       "    (9): MaxPool2d(kernel_size=2, stride=2, padding=0, dilation=1, ceil_mode=False)\n",
       "    (10): Conv2d(128, 256, kernel_size=(3, 3), stride=(1, 1), padding=(1, 1))\n",
       "    (11): ReLU(inplace=True)\n",
       "    (12): Conv2d(256, 256, kernel_size=(3, 3), stride=(1, 1), padding=(1, 1))\n",
       "    (13): ReLU(inplace=True)\n",
       "    (14): Conv2d(256, 256, kernel_size=(3, 3), stride=(1, 1), padding=(1, 1))\n",
       "    (15): ReLU(inplace=True)\n",
       "    (16): MaxPool2d(kernel_size=2, stride=2, padding=0, dilation=1, ceil_mode=False)\n",
       "    (17): Conv2d(256, 512, kernel_size=(3, 3), stride=(1, 1), padding=(1, 1))\n",
       "    (18): ReLU(inplace=True)\n",
       "    (19): Conv2d(512, 512, kernel_size=(3, 3), stride=(1, 1), padding=(1, 1))\n",
       "    (20): ReLU(inplace=True)\n",
       "    (21): Conv2d(512, 512, kernel_size=(3, 3), stride=(1, 1), padding=(1, 1))\n",
       "    (22): ReLU(inplace=True)\n",
       "    (23): MaxPool2d(kernel_size=2, stride=2, padding=0, dilation=1, ceil_mode=False)\n",
       "    (24): Conv2d(512, 512, kernel_size=(3, 3), stride=(1, 1), padding=(1, 1))\n",
       "    (25): ReLU(inplace=True)\n",
       "    (26): Conv2d(512, 512, kernel_size=(3, 3), stride=(1, 1), padding=(1, 1))\n",
       "    (27): ReLU(inplace=True)\n",
       "    (28): Conv2d(512, 512, kernel_size=(3, 3), stride=(1, 1), padding=(1, 1))\n",
       "    (29): ReLU(inplace=True)\n",
       "    (30): MaxPool2d(kernel_size=2, stride=2, padding=0, dilation=1, ceil_mode=False)\n",
       "  )\n",
       "  (avgpool): AdaptiveAvgPool2d(output_size=(7, 7))\n",
       "  (classifier): Sequential(\n",
       "    (0): Linear(in_features=25088, out_features=4096, bias=True)\n",
       "    (1): ReLU(inplace=True)\n",
       "    (2): Dropout(p=0.5, inplace=False)\n",
       "    (3): Linear(in_features=4096, out_features=4096, bias=True)\n",
       "    (4): ReLU(inplace=True)\n",
       "    (5): Dropout(p=0.5, inplace=False)\n",
       "    (6): Linear(in_features=4096, out_features=2, bias=True)\n",
       "  )\n",
       ")"
      ]
     },
     "execution_count": 22,
     "metadata": {},
     "output_type": "execute_result"
    }
   ],
   "source": [
    "from torchvision import models\n",
    "vgg16 = models.vgg16(pretrained=True)\n",
    "vgg16.classifier[6] = nn.Linear(in_features=4096, out_features=2)\n",
    "device = torch.device(\"cuda\" if torch.cuda.is_available() else \"cpu\")\n",
    "vgg16.to(device)"
   ]
  },
  {
   "cell_type": "code",
   "execution_count": 23,
   "metadata": {},
   "outputs": [
    {
     "name": "stdout",
     "output_type": "stream",
     "text": [
      "Epoch 1/10, Loss: 0.2225, Accuracy: 91.66%\n",
      "Epoch 2/10, Loss: 0.1410, Accuracy: 95.08%\n",
      "Epoch 3/10, Loss: 0.1037, Accuracy: 96.08%\n",
      "Epoch 4/10, Loss: 0.1057, Accuracy: 96.44%\n",
      "Epoch 5/10, Loss: 0.0705, Accuracy: 97.75%\n",
      "Epoch 6/10, Loss: 0.0747, Accuracy: 97.41%\n",
      "Epoch 7/10, Loss: 0.0581, Accuracy: 97.75%\n",
      "Epoch 8/10, Loss: 0.0567, Accuracy: 97.96%\n",
      "Epoch 9/10, Loss: 0.0553, Accuracy: 98.09%\n",
      "Epoch 10/10, Loss: 0.0574, Accuracy: 98.05%\n",
      "Test Accuracy: 81.73%\n"
     ]
    }
   ],
   "source": [
    "criterion = nn.CrossEntropyLoss()\n",
    "optimizer = optim.Adam(vgg16.parameters(), lr=0.0001)\n",
    "\n",
    "epochs = 10 \n",
    "for epoch in range(epochs):\n",
    "    vgg16.train()\n",
    "    running_loss = 0.0\n",
    "    correct_predictions = 0\n",
    "    total_samples = 0\n",
    "    \n",
    "    for images, labels in train_loader:\n",
    "        images, labels = images.to(device), labels.to(device)\n",
    "\n",
    "        optimizer.zero_grad()\n",
    "\n",
    "        outputs = vgg16(images)\n",
    "        loss = criterion(outputs, labels)\n",
    "        loss.backward()\n",
    "        optimizer.step()\n",
    "\n",
    "        running_loss += loss.item()\n",
    "\n",
    "        _, predicted = torch.max(outputs, 1)\n",
    "        total_samples += labels.size(0)\n",
    "        correct_predictions += (predicted == labels).sum().item()\n",
    "\n",
    "    epoch_loss = running_loss / len(train_loader)\n",
    "    epoch_accuracy = correct_predictions / total_samples * 100\n",
    "    print(f\"Epoch {epoch + 1}/{epochs}, Loss: {epoch_loss:.4f}, Accuracy: {epoch_accuracy:.2f}%\")\n",
    "\n",
    "vgg16.eval()\n",
    "test_predictions = []\n",
    "test_labels_list = []\n",
    "\n",
    "with torch.no_grad():\n",
    "    for images, labels in test_loader:\n",
    "        images, labels = images.to(device), labels.to(device)\n",
    "\n",
    "        outputs = vgg16(images)\n",
    "\n",
    "        _, predicted = torch.max(outputs, 1)\n",
    "        test_predictions.extend(predicted.cpu().numpy())\n",
    "        test_labels_list.extend(labels.cpu().numpy())\n",
    "\n",
    "from sklearn.metrics import accuracy_score\n",
    "test_accuracy = accuracy_score(test_labels_list, test_predictions) * 100\n",
    "print(f\"Test Accuracy: {test_accuracy:.2f}%\")"
   ]
  },
  {
   "cell_type": "code",
   "execution_count": 45,
   "metadata": {},
   "outputs": [
    {
     "data": {
      "text/markdown": [
       "\n",
       "\n",
       "### Vision Transformers: A Shift in Computer Vision\n",
       "\n",
       "##### The field of **Computer Vision** witnessed a revolutionary shift from the conventional **convolutional neural networks (CNNs)** typically used for image classification tasks. The **\"Attention is All You Need\"** paper introduced a new technique of focusing on different parts of the data according to their relevancy (All of it just a matrix multiplications of three matrices - **K**, **Q**, and **V**). The attention mechanism was then extensively used in the field of **NLP** to create and train **LLMs** (article for another time). But soon the attention mechanism technique was applied for images too and hence **Vision Transformers (ViTs)** - the backbone of **vision language models**. Like for an example, **ChatGPT** uses **CLIP**, the vision transformer introduced by **OPEN AI**.\n",
       "\n",
       "### How Vision Transformers Work\n",
       "\n",
       "##### The key thing to focus on is - for an image - if you want to understand or classify the image, you need to focus on different parts of an image with respect to other parts of an image. And that's what **ViT** does. **ViTs** divide the image into different regions and then tokenize it (basically makes it understandable for the model) and then it repeatedly calculates attention between these patches through which it gains knowledge of that patch and the relation between different patches.\n",
       "\n",
       "### When Are ViTs Useful?\n",
       "\n",
       "##### Well, using **ViTs** for an image classification task is an overkill, but it could be very useful in cases where you want to include both **textual** and **image** data at the same time.\n",
       "\n"
      ],
      "text/plain": [
       "<IPython.core.display.Markdown object>"
      ]
     },
     "metadata": {},
     "output_type": "display_data"
    }
   ],
   "source": [
    "print_md(\"\"\"\n",
    "\n",
    "### Vision Transformers: A Shift in Computer Vision\n",
    "\n",
    "##### The field of **Computer Vision** witnessed a revolutionary shift from the conventional **convolutional neural networks (CNNs)** typically used for image classification tasks. The **\"Attention is All You Need\"** paper introduced a new technique of focusing on different parts of the data according to their relevancy (All of it just a matrix multiplications of three matrices - **K**, **Q**, and **V**). The attention mechanism was then extensively used in the field of **NLP** to create and train **LLMs** (article for another time). But soon the attention mechanism technique was applied for images too and hence **Vision Transformers (ViTs)** - the backbone of **vision language models**. Like for an example, **ChatGPT** uses **CLIP**, the vision transformer introduced by **OPEN AI**.\n",
    "\n",
    "### How Vision Transformers Work\n",
    "\n",
    "##### The key thing to focus on is - for an image - if you want to understand or classify the image, you need to focus on different parts of an image with respect to other parts of an image. And that's what **ViT** does. **ViTs** divide the image into different regions and then tokenize it (basically makes it understandable for the model) and then it repeatedly calculates attention between these patches through which it gains knowledge of that patch and the relation between different patches.\n",
    "\n",
    "### When Are ViTs Useful?\n",
    "\n",
    "##### Well, using **ViTs** for an image classification task is an overkill, but it could be very useful in cases where you want to include both **textual** and **image** data at the same time.\n",
    "\n",
    "\"\"\"\n",
    ")"
   ]
  },
  {
   "cell_type": "markdown",
   "metadata": {},
   "source": [
    "![Local image](1_l37va2Mu8Snx6LLb13430A.png)"
   ]
  },
  {
   "cell_type": "code",
   "execution_count": 43,
   "metadata": {},
   "outputs": [
    {
     "data": {
      "text/markdown": [
       "##### I'll write the complete code at once now and fine-tune the ViT model on our dataset"
      ],
      "text/plain": [
       "<IPython.core.display.Markdown object>"
      ]
     },
     "metadata": {},
     "output_type": "display_data"
    }
   ],
   "source": [
    "print_md(\"##### I'll write the complete code at once now and fine-tune the ViT model on our dataset\")"
   ]
  },
  {
   "cell_type": "code",
   "execution_count": 44,
   "metadata": {},
   "outputs": [
    {
     "name": "stdout",
     "output_type": "stream",
     "text": [
      "Train set size: 5286\n",
      "Test set size: 624\n",
      "Sample train paths and labels: [('/home/satvik/corona_detection/Coronahack-Chest-XRay-Dataset/Coronahack-Chest-XRay-Dataset/train/IM-0128-0001.jpeg', 'Normal'), ('/home/satvik/corona_detection/Coronahack-Chest-XRay-Dataset/Coronahack-Chest-XRay-Dataset/train/IM-0127-0001.jpeg', 'Normal'), ('/home/satvik/corona_detection/Coronahack-Chest-XRay-Dataset/Coronahack-Chest-XRay-Dataset/train/IM-0125-0001.jpeg', 'Normal'), ('/home/satvik/corona_detection/Coronahack-Chest-XRay-Dataset/Coronahack-Chest-XRay-Dataset/train/IM-0122-0001.jpeg', 'Normal'), ('/home/satvik/corona_detection/Coronahack-Chest-XRay-Dataset/Coronahack-Chest-XRay-Dataset/train/IM-0119-0001.jpeg', 'Normal')]\n",
      "Sample test paths and labels: [('/home/satvik/corona_detection/Coronahack-Chest-XRay-Dataset/Coronahack-Chest-XRay-Dataset/test/IM-0021-0001.jpeg', 'Normal'), ('/home/satvik/corona_detection/Coronahack-Chest-XRay-Dataset/Coronahack-Chest-XRay-Dataset/test/IM-0019-0001.jpeg', 'Normal'), ('/home/satvik/corona_detection/Coronahack-Chest-XRay-Dataset/Coronahack-Chest-XRay-Dataset/test/IM-0017-0001.jpeg', 'Normal'), ('/home/satvik/corona_detection/Coronahack-Chest-XRay-Dataset/Coronahack-Chest-XRay-Dataset/test/IM-0016-0001.jpeg', 'Normal'), ('/home/satvik/corona_detection/Coronahack-Chest-XRay-Dataset/Coronahack-Chest-XRay-Dataset/test/IM-0015-0001.jpeg', 'Normal')]\n",
      "Label encoding mapping:\n",
      "Normal -> 0\n",
      "Pnemonia -> 1\n"
     ]
    },
    {
     "name": "stderr",
     "output_type": "stream",
     "text": [
      "/home/satvik/miniconda3/envs/lama/lib/python3.12/site-packages/torchvision/models/_utils.py:208: UserWarning: The parameter 'pretrained' is deprecated since 0.13 and may be removed in the future, please use 'weights' instead.\n",
      "  warnings.warn(\n",
      "/home/satvik/miniconda3/envs/lama/lib/python3.12/site-packages/torchvision/models/_utils.py:223: UserWarning: Arguments other than a weight enum or `None` for 'weights' are deprecated since 0.13 and may be removed in the future. The current behavior is equivalent to passing `weights=ViT_B_16_Weights.IMAGENET1K_V1`. You can also use `weights=ViT_B_16_Weights.DEFAULT` to get the most up-to-date weights.\n",
      "  warnings.warn(msg)\n"
     ]
    },
    {
     "name": "stdout",
     "output_type": "stream",
     "text": [
      "Epoch 1/10, Loss: 0.1875, Accuracy: 93.32%\n",
      "Epoch 2/10, Loss: 0.1097, Accuracy: 95.72%\n",
      "Epoch 3/10, Loss: 0.0981, Accuracy: 96.31%\n",
      "Epoch 4/10, Loss: 0.0902, Accuracy: 96.63%\n",
      "Epoch 5/10, Loss: 0.0839, Accuracy: 96.82%\n",
      "Epoch 6/10, Loss: 0.0832, Accuracy: 96.95%\n",
      "Epoch 7/10, Loss: 0.0816, Accuracy: 97.14%\n",
      "Epoch 8/10, Loss: 0.0813, Accuracy: 97.24%\n",
      "Epoch 9/10, Loss: 0.0795, Accuracy: 96.99%\n",
      "Epoch 10/10, Loss: 0.0757, Accuracy: 97.39%\n",
      "Test Accuracy: 81.73%\n"
     ]
    }
   ],
   "source": [
    "import pandas as pd\n",
    "from torchvision import transforms, models\n",
    "from torch.utils.data import DataLoader, Dataset\n",
    "from PIL import Image\n",
    "import torch\n",
    "import torch.nn as nn\n",
    "import torch.optim as optim\n",
    "from sklearn.preprocessing import LabelEncoder\n",
    "from sklearn.metrics import accuracy_score\n",
    "\n",
    "metadata = pd.read_csv(\"/home/satvik/corona_detection/Chest_xray_Corona_Metadata.csv\")\n",
    "base_path = \"/home/satvik/corona_detection/Coronahack-Chest-XRay-Dataset/Coronahack-Chest-XRay-Dataset\"\n",
    "train_dir = f\"{base_path}/train/\"\n",
    "test_dir = f\"{base_path}/test/\"\n",
    "\n",
    "metadata['Full_Image_Path'] = metadata.apply(\n",
    "    lambda row: f\"{train_dir}{row['X_ray_image_name']}\" if row['Dataset_type'] == 'TRAIN' else f\"{test_dir}{row['X_ray_image_name']}\",\n",
    "    axis=1\n",
    ")\n",
    "train_data = metadata[metadata['Dataset_type'] == 'TRAIN']\n",
    "test_data = metadata[metadata['Dataset_type'] == 'TEST']\n",
    "\n",
    "train_paths = train_data['Full_Image_Path'].tolist()\n",
    "train_labels = train_data['Label'].tolist()\n",
    "\n",
    "test_paths = test_data['Full_Image_Path'].tolist()\n",
    "test_labels = test_data['Label'].tolist()\n",
    "\n",
    "print(\"Train set size:\", len(train_paths))\n",
    "print(\"Test set size:\", len(test_paths))\n",
    "\n",
    "print(\"Sample train paths and labels:\", list(zip(train_paths[:5], train_labels[:5])))\n",
    "print(\"Sample test paths and labels:\", list(zip(test_paths[:5], test_labels[:5])))\n",
    "\n",
    "image_transforms = {\n",
    "    'train': transforms.Compose([\n",
    "        transforms.Resize((224, 224)),\n",
    "        transforms.RandomHorizontalFlip(),\n",
    "        transforms.RandomRotation(15),\n",
    "        transforms.ToTensor(),\n",
    "        transforms.Normalize([0.5, 0.5, 0.5], [0.5, 0.5, 0.5]) \n",
    "    ]),\n",
    "    'test': transforms.Compose([\n",
    "        transforms.Resize((224, 224)),\n",
    "        transforms.ToTensor(),\n",
    "        transforms.Normalize([0.5, 0.5, 0.5], [0.5, 0.5, 0.5])  \n",
    "    ])\n",
    "}\n",
    "\n",
    "label_encoder = LabelEncoder()\n",
    "label_encoder.fit(metadata['Label'])\n",
    "\n",
    "train_labels_encoded = label_encoder.transform(train_labels)\n",
    "test_labels_encoded = label_encoder.transform(test_labels)\n",
    "\n",
    "print(\"Label encoding mapping:\")\n",
    "for i, label in enumerate(label_encoder.classes_):\n",
    "    print(f\"{label} -> {i}\")\n",
    "\n",
    "class XRayDataset(Dataset):\n",
    "    def __init__(self, image_paths, labels, transform=None):\n",
    "        self.image_paths = image_paths\n",
    "        self.labels = labels\n",
    "        self.transform = transform\n",
    "\n",
    "    def __len__(self):\n",
    "        return len(self.image_paths)\n",
    "\n",
    "    def __getitem__(self, idx):\n",
    "        image_path = self.image_paths[idx]\n",
    "        image = Image.open(image_path).convert('RGB') \n",
    "        if self.transform:\n",
    "            image = self.transform(image)\n",
    "        label = self.labels[idx]\n",
    "        return image, label\n",
    "\n",
    "train_dataset = XRayDataset(train_paths, train_labels_encoded, transform=image_transforms['train'])\n",
    "test_dataset = XRayDataset(test_paths, test_labels_encoded, transform=image_transforms['test'])\n",
    "\n",
    "train_loader = DataLoader(train_dataset, batch_size=8, shuffle=True)\n",
    "test_loader = DataLoader(test_dataset, batch_size=8, shuffle=False)\n",
    "\n",
    "vit = models.vit_b_16(pretrained=True)  \n",
    "vit.head = nn.Linear(in_features=768, out_features=2)  \n",
    "\n",
    "device = torch.device(\"cuda\" if torch.cuda.is_available() else \"cpu\")\n",
    "vit.to(device)\n",
    "\n",
    "criterion = nn.CrossEntropyLoss()\n",
    "optimizer = optim.Adam(vit.parameters(), lr=0.0001)\n",
    "\n",
    "epochs = 10  \n",
    "for epoch in range(epochs):\n",
    "    vit.train()\n",
    "    running_loss = 0.0\n",
    "    correct_predictions = 0\n",
    "    total_samples = 0\n",
    "    \n",
    "    for images, labels in train_loader:\n",
    "        images, labels = images.to(device), labels.to(device)\n",
    "\n",
    "        optimizer.zero_grad()\n",
    "\n",
    "        outputs = vit(images)\n",
    "        loss = criterion(outputs, labels)\n",
    "        loss.backward()\n",
    "        optimizer.step()\n",
    "\n",
    "        running_loss += loss.item()\n",
    "\n",
    "        _, predicted = torch.max(outputs, 1)\n",
    "        total_samples += labels.size(0)\n",
    "        correct_predictions += (predicted == labels).sum().item()\n",
    "\n",
    "    epoch_loss = running_loss / len(train_loader)\n",
    "    epoch_accuracy = correct_predictions / total_samples * 100\n",
    "    print(f\"Epoch {epoch + 1}/{epochs}, Loss: {epoch_loss:.4f}, Accuracy: {epoch_accuracy:.2f}%\")\n",
    "\n",
    "vit.eval()\n",
    "test_predictions = []\n",
    "test_labels_list = []\n",
    "\n",
    "with torch.no_grad():\n",
    "    for images, labels in test_loader:\n",
    "        images, labels = images.to(device), labels.to(device)\n",
    "\n",
    "        outputs = vit(images)\n",
    "\n",
    "        _, predicted = torch.max(outputs, 1)\n",
    "        test_predictions.extend(predicted.cpu().numpy())\n",
    "        test_labels_list.extend(labels.cpu().numpy())\n",
    "\n",
    "test_accuracy = accuracy_score(test_labels_list, test_predictions) * 100\n",
    "print(f\"Test Accuracy: {test_accuracy:.2f}%\")\n"
   ]
  },
  {
   "cell_type": "code",
   "execution_count": 55,
   "metadata": {},
   "outputs": [
    {
     "data": {
      "text/markdown": [
       "### Let's compare the performance of all the models we trained\n",
       "         \n",
       "            #### 1. Simple CNN - 75.48% \n",
       "            #### 2. VGG16 - 81.73%\n",
       "            #### 3. ViT - 81.73%\n",
       "         \n",
       "         ##### you can notice in the results above that vgg16 and ViT are performing better than simple cnn model. This is because of the complexity of the models and the number of parameters they have. The more complex the model, the better it performs on the data. But remember, there is a limit to this too. You can't just keep increasing the number of parameters and expect the model to perform better. There is a trade-off between the number of parameters and the performance of the model.\n",
       "         ##### But you should also wonder why VGG16 and ViT are performing the same and ended up with the same Test Accuracy of 81.73% - this could be because of many reasons but one of the reasons might be the dataset itself. So, both the models are missing on the same images and hence the same accuracy. But this requires in-depth exploration of which images are being misclassified by the models and what can be done to improve the performance of the models.\n",
       "\n",
       "         ##### You can also think about - if it's worth it to use big models like VGG16 and ViT for this dataset if the performance is almost the same as a simple CNN model. This is where the concept of model complexity and computational efficiency comes into play. You should always choose a model that is computationally efficient and performs well on the data.\n",
       "         "
      ],
      "text/plain": [
       "<IPython.core.display.Markdown object>"
      ]
     },
     "metadata": {},
     "output_type": "display_data"
    }
   ],
   "source": [
    "print_md(\"\"\"### Let's compare the performance of all the models we trained\n",
    "         \n",
    "            #### 1. Simple CNN - 75.48% \n",
    "            #### 2. VGG16 - 81.73%\n",
    "            #### 3. ViT - 81.73%\n",
    "         \n",
    "         ##### you can notice in the results above that vgg16 and ViT are performing better than simple cnn model. This is because of the complexity of the models and the number of parameters they have. The more complex the model, the better it performs on the data. But remember, there is a limit to this too. You can't just keep increasing the number of parameters and expect the model to perform better. There is a trade-off between the number of parameters and the performance of the model.\n",
    "         ##### But you should also wonder why VGG16 and ViT are performing the same and ended up with the same Test Accuracy of 81.73% - this could be because of many reasons but one of the reasons might be the dataset itself. So, both the models are missing on the same images and hence the same accuracy. But this requires in-depth exploration of which images are being misclassified by the models and what can be done to improve the performance of the models.\n",
    "\n",
    "         ##### You can also think about - if it's worth it to use big models like VGG16 and ViT for this dataset if the performance is almost the same as a simple CNN model. This is where the concept of model complexity and computational efficiency comes into play. You should always choose a model that is computationally efficient and performs well on the data.\n",
    "         \"\"\")\n"
   ]
  },
  {
   "cell_type": "code",
   "execution_count": null,
   "metadata": {},
   "outputs": [],
   "source": []
  }
 ],
 "metadata": {
  "kernelspec": {
   "display_name": "lama",
   "language": "python",
   "name": "python3"
  },
  "language_info": {
   "codemirror_mode": {
    "name": "ipython",
    "version": 3
   },
   "file_extension": ".py",
   "mimetype": "text/x-python",
   "name": "python",
   "nbconvert_exporter": "python",
   "pygments_lexer": "ipython3",
   "version": "3.12.4"
  }
 },
 "nbformat": 4,
 "nbformat_minor": 2
}
